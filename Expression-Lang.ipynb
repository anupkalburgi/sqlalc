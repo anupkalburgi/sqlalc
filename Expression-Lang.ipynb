{
 "metadata": {
  "name": "",
  "signature": "sha256:7da59f0061cf5d0a3dff7ad30465d0821df7d1c7e738a922c331eace9bc65bc0"
 },
 "nbformat": 3,
 "nbformat_minor": 0,
 "worksheets": [
  {
   "cells": [
    {
     "cell_type": "code",
     "collapsed": false,
     "input": [
      "from sqlalchemy import MetaData, Table, Column, String, Integer"
     ],
     "language": "python",
     "metadata": {},
     "outputs": [],
     "prompt_number": 1
    },
    {
     "cell_type": "code",
     "collapsed": false,
     "input": [
      "metadata = MetaData()\n",
      "user_table = Table('user', metadata,\n",
      "                    Column('id', Integer, primary_key=True),\n",
      "                    Column('username', String(50)),\n",
      "                    Column('fullname', String(50))\n",
      "                   )"
     ],
     "language": "python",
     "metadata": {},
     "outputs": [],
     "prompt_number": 2
    },
    {
     "cell_type": "code",
     "collapsed": false,
     "input": [
      "from sqlalchemy import create_engine\n",
      "engine = create_engine('sqlite:///:memory:', echo=True)\n",
      "metadata.create_all(engine)"
     ],
     "language": "python",
     "metadata": {},
     "outputs": [
      {
       "output_type": "stream",
       "stream": "stdout",
       "text": [
        "2014-07-23 07:21:36,720 INFO sqlalchemy.engine.base.Engine SELECT CAST('test plain returns' AS VARCHAR(60)) AS anon_1\n"
       ]
      },
      {
       "output_type": "stream",
       "stream": "stdout",
       "text": [
        "2014-07-23 07:21:36,720 INFO sqlalchemy.engine.base.Engine ()\n"
       ]
      },
      {
       "output_type": "stream",
       "stream": "stdout",
       "text": [
        "2014-07-23 07:21:36,721 INFO sqlalchemy.engine.base.Engine SELECT CAST('test unicode returns' AS VARCHAR(60)) AS anon_1\n"
       ]
      },
      {
       "output_type": "stream",
       "stream": "stdout",
       "text": [
        "2014-07-23 07:21:36,722 INFO sqlalchemy.engine.base.Engine ()\n"
       ]
      },
      {
       "output_type": "stream",
       "stream": "stdout",
       "text": [
        "2014-07-23 07:21:36,723 INFO sqlalchemy.engine.base.Engine PRAGMA table_info(\"user\")\n"
       ]
      },
      {
       "output_type": "stream",
       "stream": "stdout",
       "text": [
        "2014-07-23 07:21:36,724 INFO sqlalchemy.engine.base.Engine ()\n"
       ]
      },
      {
       "output_type": "stream",
       "stream": "stdout",
       "text": [
        "2014-07-23 07:21:36,726 INFO sqlalchemy.engine.base.Engine \n",
        "CREATE TABLE user (\n",
        "\tid INTEGER NOT NULL, \n",
        "\tusername VARCHAR(50), \n",
        "\tfullname VARCHAR(50), \n",
        "\tPRIMARY KEY (id)\n",
        ")\n",
        "\n",
        "\n"
       ]
      },
      {
       "output_type": "stream",
       "stream": "stdout",
       "text": [
        "2014-07-23 07:21:36,727 INFO sqlalchemy.engine.base.Engine ()\n"
       ]
      },
      {
       "output_type": "stream",
       "stream": "stdout",
       "text": [
        "2014-07-23 07:21:36,727 INFO sqlalchemy.engine.base.Engine COMMIT\n"
       ]
      }
     ],
     "prompt_number": 3
    },
    {
     "cell_type": "code",
     "collapsed": false,
     "input": [
      "#Table has a collection of Column objects,\n",
      "# which we can access via table.c.<columnname>\n",
      "\n",
      "user_table.c.username"
     ],
     "language": "python",
     "metadata": {},
     "outputs": [
      {
       "metadata": {},
       "output_type": "pyout",
       "prompt_number": 4,
       "text": [
        "Column('username', String(length=50), table=<user>)"
       ]
      }
     ],
     "prompt_number": 4
    },
    {
     "cell_type": "code",
     "collapsed": false,
     "input": [
      "# Column is part of a class known as \"ColumnElement\",\n",
      "# which exhibit custom Python expression behavior.\n",
      "\n",
      "user_table.c.username == 'ed'"
     ],
     "language": "python",
     "metadata": {},
     "outputs": [
      {
       "metadata": {},
       "output_type": "pyout",
       "prompt_number": 5,
       "text": [
        "<sqlalchemy.sql.elements.BinaryExpression object at 0x3734590>"
       ]
      }
     ],
     "prompt_number": 5
    },
    {
     "cell_type": "code",
     "collapsed": false,
     "input": [
      "# They become SQL when evaluated as a string.\n",
      "str(user_table.c.username == 'ed')"
     ],
     "language": "python",
     "metadata": {},
     "outputs": [
      {
       "metadata": {},
       "output_type": "pyout",
       "prompt_number": 6,
       "text": [
        "'\"user\".username = :username_1'"
       ]
      }
     ],
     "prompt_number": 6
    },
    {
     "cell_type": "code",
     "collapsed": false,
     "input": [
      "# Expressions produce different strings according to *dialect*\n",
      "# objects.\n",
      "\n",
      "expression = user_table.c.username == 'ed'\n",
      "# MySQL....\n",
      "from sqlalchemy.dialects import mysql\n",
      "print(expression.compile(dialect=mysql.dialect()))"
     ],
     "language": "python",
     "metadata": {},
     "outputs": [
      {
       "output_type": "stream",
       "stream": "stdout",
       "text": [
        "user.username = %s\n"
       ]
      }
     ],
     "prompt_number": 7
    },
    {
     "cell_type": "code",
     "collapsed": false,
     "input": [
      "# PostgreSQL...\n",
      "from sqlalchemy.dialects import postgresql\n",
      "print(expression.compile(dialect=postgresql.dialect()))"
     ],
     "language": "python",
     "metadata": {},
     "outputs": [
      {
       "output_type": "stream",
       "stream": "stdout",
       "text": [
        "\"user\".username = %(username_1)s\n"
       ]
      }
     ],
     "prompt_number": 8
    },
    {
     "cell_type": "code",
     "collapsed": false,
     "input": [
      "#Reflection\n",
      "# 'reflection' refers to loading Table objects based on\n",
      "# reading from an existing database.\n",
      "metadata2 = MetaData()\n",
      "user_reflected = Table('user', metadata2, autoload=True, autoload_with=engine)"
     ],
     "language": "python",
     "metadata": {},
     "outputs": [
      {
       "output_type": "stream",
       "stream": "stdout",
       "text": [
        "2014-07-23 07:27:47,428 INFO sqlalchemy.engine.base.Engine PRAGMA table_info(\"user\")\n"
       ]
      },
      {
       "output_type": "stream",
       "stream": "stdout",
       "text": [
        "2014-07-23 07:27:47,429 INFO sqlalchemy.engine.base.Engine ()\n"
       ]
      },
      {
       "output_type": "stream",
       "stream": "stdout",
       "text": [
        "2014-07-23 07:27:47,431 INFO sqlalchemy.engine.base.Engine PRAGMA foreign_key_list(\"user\")\n"
       ]
      },
      {
       "output_type": "stream",
       "stream": "stdout",
       "text": [
        "2014-07-23 07:27:47,432 INFO sqlalchemy.engine.base.Engine ()\n"
       ]
      },
      {
       "output_type": "stream",
       "stream": "stdout",
       "text": [
        "2014-07-23 07:27:47,433 INFO sqlalchemy.engine.base.Engine PRAGMA index_list(\"user\")\n"
       ]
      },
      {
       "output_type": "stream",
       "stream": "stdout",
       "text": [
        "2014-07-23 07:27:47,434 INFO sqlalchemy.engine.base.Engine ()\n"
       ]
      }
     ],
     "prompt_number": 10
    },
    {
     "cell_type": "code",
     "collapsed": false,
     "input": [
      "print(user_reflected.c) #We can use inspector object to get more database specific details like constraints, types"
     ],
     "language": "python",
     "metadata": {},
     "outputs": [
      {
       "output_type": "stream",
       "stream": "stdout",
       "text": [
        "['user.id', 'user.username', 'user.fullname']\n"
       ]
      }
     ],
     "prompt_number": 11
    },
    {
     "cell_type": "code",
     "collapsed": false,
     "input": [],
     "language": "python",
     "metadata": {},
     "outputs": []
    }
   ],
   "metadata": {}
  }
 ]
}