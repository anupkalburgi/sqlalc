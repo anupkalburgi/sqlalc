{
 "metadata": {
  "name": "sql_alchemy"
 },
 "nbformat": 3,
 "nbformat_minor": 0,
 "worksheets": [
  {
   "cells": [
    {
     "cell_type": "code",
     "collapsed": false,
     "input": "from sqlalchemy.ext.declarative import declarative_base\nBase = declarative_base()  # declarative system is that one defines a class to be mapped, and then \\\n#applies to this class a series of directives \n\nfrom sqlalchemy import Column, Integer, String",
     "language": "python",
     "metadata": {},
     "outputs": [],
     "prompt_number": 24
    },
    {
     "cell_type": "code",
     "collapsed": false,
     "input": "class User(Base):\n    __tablename__ = 'user'\n\n    id = Column(Integer, primary_key=True)\n    name = Column(String)\n    fullname = Column(String)\n\n    def __repr__(self):  ## __repr__ is optional.\n        return \"<User(%r, %r)>\" % (self.name, self.fullname)",
     "language": "python",
     "metadata": {},
     "outputs": [],
     "prompt_number": 25
    },
    {
     "cell_type": "code",
     "collapsed": false,
     "input": "# the User class now has a Table object associated with it.\nUser.__table__",
     "language": "python",
     "metadata": {},
     "outputs": [
      {
       "metadata": {},
       "output_type": "pyout",
       "prompt_number": 26,
       "text": "Table('user', MetaData(bind=None), Column('id', Integer(), table=<user>, primary_key=True, nullable=False), Column('name', String(), table=<user>), Column('fullname', String(), table=<user>), schema=None)"
      }
     ],
     "prompt_number": 26
    },
    {
     "cell_type": "code",
     "collapsed": false,
     "input": "# The Mapper object mediates the relationship between User\n# and the \"user\" Table object.\nUser.__mapper__",
     "language": "python",
     "metadata": {},
     "outputs": [
      {
       "metadata": {},
       "output_type": "pyout",
       "prompt_number": 27,
       "text": "<Mapper at 0x103c42c10; User>"
      }
     ],
     "prompt_number": 27
    },
    {
     "cell_type": "code",
     "collapsed": false,
     "input": "# User has a default constructor, accepting field names as arguments.\ned_user = User(name='ed', fullname='Edward Jones')",
     "language": "python",
     "metadata": {},
     "outputs": [],
     "prompt_number": 28
    },
    {
     "cell_type": "code",
     "collapsed": false,
     "input": "print ed_user",
     "language": "python",
     "metadata": {},
     "outputs": [
      {
       "output_type": "stream",
       "stream": "stdout",
       "text": "<User('ed', 'Edward Jones')>\n"
      }
     ],
     "prompt_number": 29
    },
    {
     "cell_type": "code",
     "collapsed": false,
     "input": "print(ed_user.name, ed_user.fullname)\nprint(ed_user.id)",
     "language": "python",
     "metadata": {},
     "outputs": [
      {
       "output_type": "stream",
       "stream": "stdout",
       "text": "('ed', 'Edward Jones')\nNone\n"
      }
     ],
     "prompt_number": 30
    },
    {
     "cell_type": "code",
     "collapsed": false,
     "input": "# The MetaData object is here too, available from the Base.\n\nfrom sqlalchemy import create_engine\nengine = create_engine('sqlite:///:memory:', echo=True)\nBase.metadata.create_all(engine)",
     "language": "python",
     "metadata": {},
     "outputs": [
      {
       "output_type": "stream",
       "stream": "stdout",
       "text": "2014-07-20 23:08:26,898 INFO sqlalchemy.engine.base.Engine SELECT CAST('test plain returns' AS VARCHAR(60)) AS anon_1\n"
      },
      {
       "output_type": "stream",
       "stream": "stderr",
       "text": "INFO:sqlalchemy.engine.base.Engine:SELECT CAST('test plain returns' AS VARCHAR(60)) AS anon_1\n"
      },
      {
       "output_type": "stream",
       "stream": "stdout",
       "text": "2014-07-20 23:08:26,899 INFO sqlalchemy.engine.base.Engine ()\n"
      },
      {
       "output_type": "stream",
       "stream": "stderr",
       "text": "INFO:sqlalchemy.engine.base.Engine:()\n"
      },
      {
       "output_type": "stream",
       "stream": "stdout",
       "text": "2014-07-20 23:08:26,900 INFO sqlalchemy.engine.base.Engine SELECT CAST('test unicode returns' AS VARCHAR(60)) AS anon_1\n"
      },
      {
       "output_type": "stream",
       "stream": "stderr",
       "text": "INFO:sqlalchemy.engine.base.Engine:SELECT CAST('test unicode returns' AS VARCHAR(60)) AS anon_1\n"
      },
      {
       "output_type": "stream",
       "stream": "stdout",
       "text": "2014-07-20 23:08:26,901 INFO sqlalchemy.engine.base.Engine ()\n"
      },
      {
       "output_type": "stream",
       "stream": "stderr",
       "text": "INFO:sqlalchemy.engine.base.Engine:()\n"
      },
      {
       "output_type": "stream",
       "stream": "stdout",
       "text": "2014-07-20 23:08:26,903 INFO sqlalchemy.engine.base.Engine PRAGMA table_info(\"user\")\n"
      },
      {
       "output_type": "stream",
       "stream": "stderr",
       "text": "INFO:sqlalchemy.engine.base.Engine:PRAGMA table_info(\"user\")\n"
      },
      {
       "output_type": "stream",
       "stream": "stdout",
       "text": "2014-07-20 23:08:26,904 INFO sqlalchemy.engine.base.Engine ()\n"
      },
      {
       "output_type": "stream",
       "stream": "stderr",
       "text": "INFO:sqlalchemy.engine.base.Engine:()\n"
      },
      {
       "output_type": "stream",
       "stream": "stdout",
       "text": "2014-07-20 23:08:26,905 INFO sqlalchemy.engine.base.Engine \nCREATE TABLE user (\n\tid INTEGER NOT NULL, \n\tname VARCHAR, \n\tfullname VARCHAR, \n\tPRIMARY KEY (id)\n)\n\n\n"
      },
      {
       "output_type": "stream",
       "stream": "stderr",
       "text": "INFO:sqlalchemy.engine.base.Engine:\nCREATE TABLE user (\n\tid INTEGER NOT NULL, \n\tname VARCHAR, \n\tfullname VARCHAR, \n\tPRIMARY KEY (id)\n)\n\n\n"
      },
      {
       "output_type": "stream",
       "stream": "stdout",
       "text": "2014-07-20 23:08:26,906 INFO sqlalchemy.engine.base.Engine ()\n"
      },
      {
       "output_type": "stream",
       "stream": "stderr",
       "text": "INFO:sqlalchemy.engine.base.Engine:()\n"
      },
      {
       "output_type": "stream",
       "stream": "stdout",
       "text": "2014-07-20 23:08:26,907 INFO sqlalchemy.engine.base.Engine COMMIT\n"
      },
      {
       "output_type": "stream",
       "stream": "stderr",
       "text": "INFO:sqlalchemy.engine.base.Engine:COMMIT\n"
      }
     ],
     "prompt_number": 31
    },
    {
     "cell_type": "code",
     "collapsed": false,
     "input": "# To persist and load User objects from the database, we\n# use a Session object.\n\nfrom sqlalchemy.orm import Session\nsession = Session(bind=engine)",
     "language": "python",
     "metadata": {},
     "outputs": [],
     "prompt_number": 32
    },
    {
     "cell_type": "code",
     "collapsed": false,
     "input": "# new objects are placed into the Session using add().\nsession.add(ed_user)",
     "language": "python",
     "metadata": {},
     "outputs": [],
     "prompt_number": 33
    },
    {
     "cell_type": "code",
     "collapsed": false,
     "input": "# the Session will *flush* *pending* objects\n# to the database before each Query.\n\nour_user = session.query(User).filter_by(name='ed').first()\nour_user",
     "language": "python",
     "metadata": {},
     "outputs": [
      {
       "output_type": "stream",
       "stream": "stdout",
       "text": "2014-07-20 23:09:01,305 INFO sqlalchemy.engine.base.Engine BEGIN (implicit)\n"
      },
      {
       "output_type": "stream",
       "stream": "stderr",
       "text": "INFO:sqlalchemy.engine.base.Engine:BEGIN (implicit)\n"
      },
      {
       "output_type": "stream",
       "stream": "stdout",
       "text": "2014-07-20 23:09:01,309 INFO sqlalchemy.engine.base.Engine INSERT INTO user (name, fullname) VALUES (?, ?)\n"
      },
      {
       "output_type": "stream",
       "stream": "stderr",
       "text": "INFO:sqlalchemy.engine.base.Engine:INSERT INTO user (name, fullname) VALUES (?, ?)\n"
      },
      {
       "output_type": "stream",
       "stream": "stdout",
       "text": "2014-07-20 23:09:01,310 INFO sqlalchemy.engine.base.Engine ('ed', 'Edward Jones')\n"
      },
      {
       "output_type": "stream",
       "stream": "stderr",
       "text": "INFO:sqlalchemy.engine.base.Engine:('ed', 'Edward Jones')\n"
      },
      {
       "output_type": "stream",
       "stream": "stdout",
       "text": "2014-07-20 23:09:01,313 INFO sqlalchemy.engine.base.Engine SELECT user.id AS user_id, user.name AS user_name, user.fullname AS user_fullname \nFROM user \nWHERE user.name = ?\n LIMIT ? OFFSET ?\n"
      },
      {
       "output_type": "stream",
       "stream": "stderr",
       "text": "INFO:sqlalchemy.engine.base.Engine:SELECT user.id AS user_id, user.name AS user_name, user.fullname AS user_fullname \nFROM user \nWHERE user.name = ?\n LIMIT ? OFFSET ?\n"
      },
      {
       "output_type": "stream",
       "stream": "stdout",
       "text": "2014-07-20 23:09:01,314 INFO sqlalchemy.engine.base.Engine ('ed', 1, 0)\n"
      },
      {
       "output_type": "stream",
       "stream": "stderr",
       "text": "INFO:sqlalchemy.engine.base.Engine:('ed', 1, 0)\n"
      },
      {
       "metadata": {},
       "output_type": "pyout",
       "prompt_number": 34,
       "text": "<User('ed', 'Edward Jones')>"
      }
     ],
     "prompt_number": 34
    },
    {
     "cell_type": "code",
     "collapsed": false,
     "input": "# the User object we've inserted now has a value for \".id\"\nprint(ed_user.id)",
     "language": "python",
     "metadata": {},
     "outputs": [
      {
       "output_type": "stream",
       "stream": "stdout",
       "text": "1\n"
      }
     ],
     "prompt_number": 35
    },
    {
     "cell_type": "code",
     "collapsed": false,
     "input": "# the Session maintains a *unique* object per identity.\n# so \"ed_user\" and \"our_user\" are the *same* object\n\ned_user is our_user",
     "language": "python",
     "metadata": {},
     "outputs": [
      {
       "metadata": {},
       "output_type": "pyout",
       "prompt_number": 36,
       "text": "True"
      }
     ],
     "prompt_number": 36
    },
    {
     "cell_type": "code",
     "collapsed": false,
     "input": "# Add more objects to be pending for flush.\n\nsession.add_all([\n    User(name='wendy', fullname='Wendy Weathersmith'),\n    User(name='mary', fullname='Mary Contrary'),\n    User(name='fred', fullname='Fred Flinstone')\n])\n",
     "language": "python",
     "metadata": {},
     "outputs": [],
     "prompt_number": 37
    },
    {
     "cell_type": "code",
     "collapsed": false,
     "input": "# modify \"ed_user\" - the object is now marked as *dirty*.\n\ned_user.fullname = 'Ed Jones'",
     "language": "python",
     "metadata": {},
     "outputs": [],
     "prompt_number": 39
    },
    {
     "cell_type": "code",
     "collapsed": false,
     "input": "session.dirty",
     "language": "python",
     "metadata": {},
     "outputs": [
      {
       "metadata": {},
       "output_type": "pyout",
       "prompt_number": 40,
       "text": "IdentitySet([<User('ed', 'Ed Jones')>])"
      }
     ],
     "prompt_number": 40
    },
    {
     "cell_type": "code",
     "collapsed": false,
     "input": "session.new",
     "language": "python",
     "metadata": {},
     "outputs": [
      {
       "metadata": {},
       "output_type": "pyout",
       "prompt_number": 41,
       "text": "IdentitySet([<User('wendy', 'Wendy Weathersmith')>, <User('fred', 'Fred Flinstone')>, <User('mary', 'Mary Contrary')>])"
      }
     ],
     "prompt_number": 41
    },
    {
     "cell_type": "code",
     "collapsed": false,
     "input": "# The whole transaction is committed.  Commit always triggers\n# a final flush of remaining changes.\n\nsession.commit()",
     "language": "python",
     "metadata": {},
     "outputs": [
      {
       "output_type": "stream",
       "stream": "stdout",
       "text": "2014-07-20 23:11:29,336 INFO sqlalchemy.engine.base.Engine UPDATE user SET fullname=? WHERE user.id = ?\n"
      },
      {
       "output_type": "stream",
       "stream": "stderr",
       "text": "INFO:sqlalchemy.engine.base.Engine:UPDATE user SET fullname=? WHERE user.id = ?\n"
      },
      {
       "output_type": "stream",
       "stream": "stdout",
       "text": "2014-07-20 23:11:29,337 INFO sqlalchemy.engine.base.Engine ('Ed Jones', 1)\n"
      },
      {
       "output_type": "stream",
       "stream": "stderr",
       "text": "INFO:sqlalchemy.engine.base.Engine:('Ed Jones', 1)\n"
      },
      {
       "output_type": "stream",
       "stream": "stdout",
       "text": "2014-07-20 23:11:29,339 INFO sqlalchemy.engine.base.Engine INSERT INTO user (name, fullname) VALUES (?, ?)\n"
      },
      {
       "output_type": "stream",
       "stream": "stderr",
       "text": "INFO:sqlalchemy.engine.base.Engine:INSERT INTO user (name, fullname) VALUES (?, ?)\n"
      },
      {
       "output_type": "stream",
       "stream": "stdout",
       "text": "2014-07-20 23:11:29,340 INFO sqlalchemy.engine.base.Engine ('wendy', 'Wendy Weathersmith')\n"
      },
      {
       "output_type": "stream",
       "stream": "stderr",
       "text": "INFO:sqlalchemy.engine.base.Engine:('wendy', 'Wendy Weathersmith')\n"
      },
      {
       "output_type": "stream",
       "stream": "stdout",
       "text": "2014-07-20 23:11:29,342 INFO sqlalchemy.engine.base.Engine INSERT INTO user (name, fullname) VALUES (?, ?)\n"
      },
      {
       "output_type": "stream",
       "stream": "stderr",
       "text": "INFO:sqlalchemy.engine.base.Engine:INSERT INTO user (name, fullname) VALUES (?, ?)\n"
      },
      {
       "output_type": "stream",
       "stream": "stdout",
       "text": "2014-07-20 23:11:29,343 INFO sqlalchemy.engine.base.Engine ('mary', 'Mary Contrary')\n"
      },
      {
       "output_type": "stream",
       "stream": "stderr",
       "text": "INFO:sqlalchemy.engine.base.Engine:('mary', 'Mary Contrary')\n"
      },
      {
       "output_type": "stream",
       "stream": "stdout",
       "text": "2014-07-20 23:11:29,344 INFO sqlalchemy.engine.base.Engine INSERT INTO user (name, fullname) VALUES (?, ?)\n"
      },
      {
       "output_type": "stream",
       "stream": "stderr",
       "text": "INFO:sqlalchemy.engine.base.Engine:INSERT INTO user (name, fullname) VALUES (?, ?)\n"
      },
      {
       "output_type": "stream",
       "stream": "stdout",
       "text": "2014-07-20 23:11:29,345 INFO sqlalchemy.engine.base.Engine ('fred', 'Fred Flinstone')\n"
      },
      {
       "output_type": "stream",
       "stream": "stderr",
       "text": "INFO:sqlalchemy.engine.base.Engine:('fred', 'Fred Flinstone')\n"
      },
      {
       "output_type": "stream",
       "stream": "stdout",
       "text": "2014-07-20 23:11:29,346 INFO sqlalchemy.engine.base.Engine COMMIT\n"
      },
      {
       "output_type": "stream",
       "stream": "stderr",
       "text": "INFO:sqlalchemy.engine.base.Engine:COMMIT\n"
      }
     ],
     "prompt_number": 42
    },
    {
     "cell_type": "code",
     "collapsed": false,
     "input": "# After a commit, theres no transaction.  The Session\n# *invalidates* all data, so that accessing them will automatically\n# start a *new* transaction and re-load from the database.\n\ned_user.fullname",
     "language": "python",
     "metadata": {},
     "outputs": [
      {
       "output_type": "stream",
       "stream": "stdout",
       "text": "2014-07-20 23:12:13,427 INFO sqlalchemy.engine.base.Engine BEGIN (implicit)\n"
      },
      {
       "output_type": "stream",
       "stream": "stderr",
       "text": "INFO:sqlalchemy.engine.base.Engine:BEGIN (implicit)\n"
      },
      {
       "output_type": "stream",
       "stream": "stdout",
       "text": "2014-07-20 23:12:13,429 INFO sqlalchemy.engine.base.Engine SELECT user.id AS user_id, user.name AS user_name, user.fullname AS user_fullname \nFROM user \nWHERE user.id = ?\n"
      },
      {
       "output_type": "stream",
       "stream": "stderr",
       "text": "INFO:sqlalchemy.engine.base.Engine:SELECT user.id AS user_id, user.name AS user_name, user.fullname AS user_fullname \nFROM user \nWHERE user.id = ?\n"
      },
      {
       "output_type": "stream",
       "stream": "stdout",
       "text": "2014-07-20 23:12:13,431 INFO sqlalchemy.engine.base.Engine (1,)\n"
      },
      {
       "output_type": "stream",
       "stream": "stderr",
       "text": "INFO:sqlalchemy.engine.base.Engine:(1,)\n"
      },
      {
       "metadata": {},
       "output_type": "pyout",
       "prompt_number": 43,
       "text": "u'Ed Jones'"
      }
     ],
     "prompt_number": 43
    },
    {
     "cell_type": "code",
     "collapsed": false,
     "input": "ed_user.name = 'Edwardo'\nfake_user = User(name='fakeuser', fullname='Invalid')\nsession.add(fake_user)",
     "language": "python",
     "metadata": {},
     "outputs": [],
     "prompt_number": 44
    },
    {
     "cell_type": "code",
     "collapsed": false,
     "input": "session.query(User).filter(User.name.in_(['Edwardo', 'fakeuser'])).all()",
     "language": "python",
     "metadata": {},
     "outputs": [
      {
       "output_type": "stream",
       "stream": "stdout",
       "text": "2014-07-20 23:13:27,324 INFO sqlalchemy.engine.base.Engine UPDATE user SET name=? WHERE user.id = ?\n"
      },
      {
       "output_type": "stream",
       "stream": "stderr",
       "text": "INFO:sqlalchemy.engine.base.Engine:UPDATE user SET name=? WHERE user.id = ?\n"
      },
      {
       "output_type": "stream",
       "stream": "stdout",
       "text": "2014-07-20 23:13:27,325 INFO sqlalchemy.engine.base.Engine ('Edwardo', 1)\n"
      },
      {
       "output_type": "stream",
       "stream": "stderr",
       "text": "INFO:sqlalchemy.engine.base.Engine:('Edwardo', 1)\n"
      },
      {
       "output_type": "stream",
       "stream": "stdout",
       "text": "2014-07-20 23:13:27,327 INFO sqlalchemy.engine.base.Engine INSERT INTO user (name, fullname) VALUES (?, ?)\n"
      },
      {
       "output_type": "stream",
       "stream": "stderr",
       "text": "INFO:sqlalchemy.engine.base.Engine:INSERT INTO user (name, fullname) VALUES (?, ?)\n"
      },
      {
       "output_type": "stream",
       "stream": "stdout",
       "text": "2014-07-20 23:13:27,328 INFO sqlalchemy.engine.base.Engine ('fakeuser', 'Invalid')\n"
      },
      {
       "output_type": "stream",
       "stream": "stderr",
       "text": "INFO:sqlalchemy.engine.base.Engine:('fakeuser', 'Invalid')\n"
      },
      {
       "output_type": "stream",
       "stream": "stdout",
       "text": "2014-07-20 23:13:27,330 INFO sqlalchemy.engine.base.Engine SELECT user.id AS user_id, user.name AS user_name, user.fullname AS user_fullname \nFROM user \nWHERE user.name IN (?, ?)\n"
      },
      {
       "output_type": "stream",
       "stream": "stderr",
       "text": "INFO:sqlalchemy.engine.base.Engine:SELECT user.id AS user_id, user.name AS user_name, user.fullname AS user_fullname \nFROM user \nWHERE user.name IN (?, ?)\n"
      },
      {
       "output_type": "stream",
       "stream": "stdout",
       "text": "2014-07-20 23:13:27,331 INFO sqlalchemy.engine.base.Engine ('Edwardo', 'fakeuser')\n"
      },
      {
       "output_type": "stream",
       "stream": "stderr",
       "text": "INFO:sqlalchemy.engine.base.Engine:('Edwardo', 'fakeuser')\n"
      },
      {
       "metadata": {},
       "output_type": "pyout",
       "prompt_number": 45,
       "text": "[<User('Edwardo', u'Ed Jones')>, <User('fakeuser', 'Invalid')>]"
      }
     ],
     "prompt_number": 45
    },
    {
     "cell_type": "code",
     "collapsed": false,
     "input": "# But we're inside of a transaction.  Roll it back.\nsession.rollback()",
     "language": "python",
     "metadata": {},
     "outputs": [
      {
       "output_type": "stream",
       "stream": "stdout",
       "text": "2014-07-20 23:13:47,085 INFO sqlalchemy.engine.base.Engine ROLLBACK\n"
      },
      {
       "output_type": "stream",
       "stream": "stderr",
       "text": "INFO:sqlalchemy.engine.base.Engine:ROLLBACK\n"
      }
     ],
     "prompt_number": 46
    },
    {
     "cell_type": "code",
     "collapsed": false,
     "input": "# ed_user's name is back to normal\ned_user.name",
     "language": "python",
     "metadata": {},
     "outputs": [
      {
       "output_type": "stream",
       "stream": "stdout",
       "text": "2014-07-20 23:13:59,969 INFO sqlalchemy.engine.base.Engine BEGIN (implicit)\n"
      },
      {
       "output_type": "stream",
       "stream": "stderr",
       "text": "INFO:sqlalchemy.engine.base.Engine:BEGIN (implicit)\n"
      },
      {
       "output_type": "stream",
       "stream": "stdout",
       "text": "2014-07-20 23:13:59,972 INFO sqlalchemy.engine.base.Engine SELECT user.id AS user_id, user.name AS user_name, user.fullname AS user_fullname \nFROM user \nWHERE user.id = ?\n"
      },
      {
       "output_type": "stream",
       "stream": "stderr",
       "text": "INFO:sqlalchemy.engine.base.Engine:SELECT user.id AS user_id, user.name AS user_name, user.fullname AS user_fullname \nFROM user \nWHERE user.id = ?\n"
      },
      {
       "output_type": "stream",
       "stream": "stdout",
       "text": "2014-07-20 23:13:59,973 INFO sqlalchemy.engine.base.Engine (1,)\n"
      },
      {
       "output_type": "stream",
       "stream": "stderr",
       "text": "INFO:sqlalchemy.engine.base.Engine:(1,)\n"
      },
      {
       "metadata": {},
       "output_type": "pyout",
       "prompt_number": 47,
       "text": "u'ed'"
      }
     ],
     "prompt_number": 47
    },
    {
     "cell_type": "code",
     "collapsed": false,
     "input": "# \"fake_user\" has been evicted from the session.\nfake_user in session",
     "language": "python",
     "metadata": {},
     "outputs": [
      {
       "metadata": {},
       "output_type": "pyout",
       "prompt_number": 48,
       "text": "False"
      }
     ],
     "prompt_number": 48
    },
    {
     "cell_type": "code",
     "collapsed": false,
     "input": "# and the data is gone from the database too.\n\nsession.query(User).filter(User.name.in_(['ed', 'fakeuser'])).all()",
     "language": "python",
     "metadata": {},
     "outputs": [
      {
       "output_type": "stream",
       "stream": "stdout",
       "text": "2014-07-20 23:14:47,000 INFO sqlalchemy.engine.base.Engine SELECT user.id AS user_id, user.name AS user_name, user.fullname AS user_fullname \nFROM user \nWHERE user.name IN (?, ?)\n"
      },
      {
       "output_type": "stream",
       "stream": "stderr",
       "text": "INFO:sqlalchemy.engine.base.Engine:SELECT user.id AS user_id, user.name AS user_name, user.fullname AS user_fullname \nFROM user \nWHERE user.name IN (?, ?)\n"
      },
      {
       "output_type": "stream",
       "stream": "stdout",
       "text": "2014-07-20 23:14:47,001 INFO sqlalchemy.engine.base.Engine ('ed', 'fakeuser')\n"
      },
      {
       "output_type": "stream",
       "stream": "stderr",
       "text": "INFO:sqlalchemy.engine.base.Engine:('ed', 'fakeuser')\n"
      },
      {
       "metadata": {},
       "output_type": "pyout",
       "prompt_number": 49,
       "text": "[<User(u'ed', u'Ed Jones')>]"
      }
     ],
     "prompt_number": 49
    },
    {
     "cell_type": "code",
     "collapsed": false,
     "input": "",
     "language": "python",
     "metadata": {},
     "outputs": []
    }
   ],
   "metadata": {}
  }
 ]
}