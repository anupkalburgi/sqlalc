{
 "metadata": {
  "name": "sql_alchemy"
 },
 "nbformat": 3,
 "nbformat_minor": 0,
 "worksheets": [
  {
   "cells": [
    {
     "cell_type": "code",
     "collapsed": false,
     "input": "from sqlalchemy.ext.declarative import declarative_base\nBase = declarative_base()  # declarative system is that one defines a class to be mapped, and then \\\n#applies to this class a series of directives \n\nfrom sqlalchemy import Column, Integer, String",
     "language": "python",
     "metadata": {},
     "outputs": [],
     "prompt_number": 24
    },
    {
     "cell_type": "code",
     "collapsed": false,
     "input": "class User(Base):\n    __tablename__ = 'user'\n\n    id = Column(Integer, primary_key=True)\n    name = Column(String)\n    fullname = Column(String)\n\n    def __repr__(self):  ## __repr__ is optional.\n        return \"<User(%r, %r)>\" % (self.name, self.fullname)",
     "language": "python",
     "metadata": {},
     "outputs": [],
     "prompt_number": 25
    },
    {
     "cell_type": "code",
     "collapsed": false,
     "input": "# the User class now has a Table object associated with it.\nUser.__table__",
     "language": "python",
     "metadata": {},
     "outputs": [
      {
       "metadata": {},
       "output_type": "pyout",
       "prompt_number": 26,
       "text": "Table('user', MetaData(bind=None), Column('id', Integer(), table=<user>, primary_key=True, nullable=False), Column('name', String(), table=<user>), Column('fullname', String(), table=<user>), schema=None)"
      }
     ],
     "prompt_number": 26
    },
    {
     "cell_type": "code",
     "collapsed": false,
     "input": "# The Mapper object mediates the relationship between User\n# and the \"user\" Table object.\nUser.__mapper__",
     "language": "python",
     "metadata": {},
     "outputs": [
      {
       "metadata": {},
       "output_type": "pyout",
       "prompt_number": 27,
       "text": "<Mapper at 0x103c42c10; User>"
      }
     ],
     "prompt_number": 27
    },
    {
     "cell_type": "code",
     "collapsed": false,
     "input": "# User has a default constructor, accepting field names as arguments.\ned_user = User(name='ed', fullname='Edward Jones')",
     "language": "python",
     "metadata": {},
     "outputs": [],
     "prompt_number": 28
    },
    {
     "cell_type": "code",
     "collapsed": false,
     "input": "print ed_user",
     "language": "python",
     "metadata": {},
     "outputs": [
      {
       "output_type": "stream",
       "stream": "stdout",
       "text": "<User('ed', 'Edward Jones')>\n"
      }
     ],
     "prompt_number": 29
    },
    {
     "cell_type": "code",
     "collapsed": false,
     "input": "print(ed_user.name, ed_user.fullname)\nprint(ed_user.id)",
     "language": "python",
     "metadata": {},
     "outputs": [
      {
       "output_type": "stream",
       "stream": "stdout",
       "text": "('ed', 'Edward Jones')\nNone\n"
      }
     ],
     "prompt_number": 30
    },
    {
     "cell_type": "code",
     "collapsed": false,
     "input": "# The MetaData object is here too, available from the Base.\n\nfrom sqlalchemy import create_engine\nengine = create_engine('sqlite:///:memory:', echo=True)\nBase.metadata.create_all(engine)",
     "language": "python",
     "metadata": {},
     "outputs": [
      {
       "output_type": "stream",
       "stream": "stdout",
       "text": "2014-07-20 23:08:26,898 INFO sqlalchemy.engine.base.Engine SELECT CAST('test plain returns' AS VARCHAR(60)) AS anon_1\n"
      },
      {
       "output_type": "stream",
       "stream": "stderr",
       "text": "INFO:sqlalchemy.engine.base.Engine:SELECT CAST('test plain returns' AS VARCHAR(60)) AS anon_1\n"
      },
      {
       "output_type": "stream",
       "stream": "stdout",
       "text": "2014-07-20 23:08:26,899 INFO sqlalchemy.engine.base.Engine ()\n"
      },
      {
       "output_type": "stream",
       "stream": "stderr",
       "text": "INFO:sqlalchemy.engine.base.Engine:()\n"
      },
      {
       "output_type": "stream",
       "stream": "stdout",
       "text": "2014-07-20 23:08:26,900 INFO sqlalchemy.engine.base.Engine SELECT CAST('test unicode returns' AS VARCHAR(60)) AS anon_1\n"
      },
      {
       "output_type": "stream",
       "stream": "stderr",
       "text": "INFO:sqlalchemy.engine.base.Engine:SELECT CAST('test unicode returns' AS VARCHAR(60)) AS anon_1\n"
      },
      {
       "output_type": "stream",
       "stream": "stdout",
       "text": "2014-07-20 23:08:26,901 INFO sqlalchemy.engine.base.Engine ()\n"
      },
      {
       "output_type": "stream",
       "stream": "stderr",
       "text": "INFO:sqlalchemy.engine.base.Engine:()\n"
      },
      {
       "output_type": "stream",
       "stream": "stdout",
       "text": "2014-07-20 23:08:26,903 INFO sqlalchemy.engine.base.Engine PRAGMA table_info(\"user\")\n"
      },
      {
       "output_type": "stream",
       "stream": "stderr",
       "text": "INFO:sqlalchemy.engine.base.Engine:PRAGMA table_info(\"user\")\n"
      },
      {
       "output_type": "stream",
       "stream": "stdout",
       "text": "2014-07-20 23:08:26,904 INFO sqlalchemy.engine.base.Engine ()\n"
      },
      {
       "output_type": "stream",
       "stream": "stderr",
       "text": "INFO:sqlalchemy.engine.base.Engine:()\n"
      },
      {
       "output_type": "stream",
       "stream": "stdout",
       "text": "2014-07-20 23:08:26,905 INFO sqlalchemy.engine.base.Engine \nCREATE TABLE user (\n\tid INTEGER NOT NULL, \n\tname VARCHAR, \n\tfullname VARCHAR, \n\tPRIMARY KEY (id)\n)\n\n\n"
      },
      {
       "output_type": "stream",
       "stream": "stderr",
       "text": "INFO:sqlalchemy.engine.base.Engine:\nCREATE TABLE user (\n\tid INTEGER NOT NULL, \n\tname VARCHAR, \n\tfullname VARCHAR, \n\tPRIMARY KEY (id)\n)\n\n\n"
      },
      {
       "output_type": "stream",
       "stream": "stdout",
       "text": "2014-07-20 23:08:26,906 INFO sqlalchemy.engine.base.Engine ()\n"
      },
      {
       "output_type": "stream",
       "stream": "stderr",
       "text": "INFO:sqlalchemy.engine.base.Engine:()\n"
      },
      {
       "output_type": "stream",
       "stream": "stdout",
       "text": "2014-07-20 23:08:26,907 INFO sqlalchemy.engine.base.Engine COMMIT\n"
      },
      {
       "output_type": "stream",
       "stream": "stderr",
       "text": "INFO:sqlalchemy.engine.base.Engine:COMMIT\n"
      }
     ],
     "prompt_number": 31
    },
    {
     "cell_type": "code",
     "collapsed": false,
     "input": "# To persist and load User objects from the database, we\n# use a Session object.\n\nfrom sqlalchemy.orm import Session\nsession = Session(bind=engine)",
     "language": "python",
     "metadata": {},
     "outputs": [],
     "prompt_number": 32
    },
    {
     "cell_type": "code",
     "collapsed": false,
     "input": "# new objects are placed into the Session using add().\nsession.add(ed_user)",
     "language": "python",
     "metadata": {},
     "outputs": [],
     "prompt_number": 33
    },
    {
     "cell_type": "code",
     "collapsed": false,
     "input": "# the Session will *flush* *pending* objects\n# to the database before each Query.\n\nour_user = session.query(User).filter_by(name='ed').first()\nour_user",
     "language": "python",
     "metadata": {},
     "outputs": [
      {
       "output_type": "stream",
       "stream": "stdout",
       "text": "2014-07-20 23:09:01,305 INFO sqlalchemy.engine.base.Engine BEGIN (implicit)\n"
      },
      {
       "output_type": "stream",
       "stream": "stderr",
       "text": "INFO:sqlalchemy.engine.base.Engine:BEGIN (implicit)\n"
      },
      {
       "output_type": "stream",
       "stream": "stdout",
       "text": "2014-07-20 23:09:01,309 INFO sqlalchemy.engine.base.Engine INSERT INTO user (name, fullname) VALUES (?, ?)\n"
      },
      {
       "output_type": "stream",
       "stream": "stderr",
       "text": "INFO:sqlalchemy.engine.base.Engine:INSERT INTO user (name, fullname) VALUES (?, ?)\n"
      },
      {
       "output_type": "stream",
       "stream": "stdout",
       "text": "2014-07-20 23:09:01,310 INFO sqlalchemy.engine.base.Engine ('ed', 'Edward Jones')\n"
      },
      {
       "output_type": "stream",
       "stream": "stderr",
       "text": "INFO:sqlalchemy.engine.base.Engine:('ed', 'Edward Jones')\n"
      },
      {
       "output_type": "stream",
       "stream": "stdout",
       "text": "2014-07-20 23:09:01,313 INFO sqlalchemy.engine.base.Engine SELECT user.id AS user_id, user.name AS user_name, user.fullname AS user_fullname \nFROM user \nWHERE user.name = ?\n LIMIT ? OFFSET ?\n"
      },
      {
       "output_type": "stream",
       "stream": "stderr",
       "text": "INFO:sqlalchemy.engine.base.Engine:SELECT user.id AS user_id, user.name AS user_name, user.fullname AS user_fullname \nFROM user \nWHERE user.name = ?\n LIMIT ? OFFSET ?\n"
      },
      {
       "output_type": "stream",
       "stream": "stdout",
       "text": "2014-07-20 23:09:01,314 INFO sqlalchemy.engine.base.Engine ('ed', 1, 0)\n"
      },
      {
       "output_type": "stream",
       "stream": "stderr",
       "text": "INFO:sqlalchemy.engine.base.Engine:('ed', 1, 0)\n"
      },
      {
       "metadata": {},
       "output_type": "pyout",
       "prompt_number": 34,
       "text": "<User('ed', 'Edward Jones')>"
      }
     ],
     "prompt_number": 34
    },
    {
     "cell_type": "code",
     "collapsed": false,
     "input": "# the User object we've inserted now has a value for \".id\"\nprint(ed_user.id)",
     "language": "python",
     "metadata": {},
     "outputs": [
      {
       "output_type": "stream",
       "stream": "stdout",
       "text": "1\n"
      }
     ],
     "prompt_number": 35
    },
    {
     "cell_type": "code",
     "collapsed": false,
     "input": "# the Session maintains a *unique* object per identity.\n# so \"ed_user\" and \"our_user\" are the *same* object\n\ned_user is our_user",
     "language": "python",
     "metadata": {},
     "outputs": [
      {
       "metadata": {},
       "output_type": "pyout",
       "prompt_number": 36,
       "text": "True"
      }
     ],
     "prompt_number": 36
    },
    {
     "cell_type": "code",
     "collapsed": false,
     "input": "# Add more objects to be pending for flush.\n\nsession.add_all([\n    User(name='wendy', fullname='Wendy Weathersmith'),\n    User(name='mary', fullname='Mary Contrary'),\n    User(name='fred', fullname='Fred Flinstone')\n])\n",
     "language": "python",
     "metadata": {},
     "outputs": [],
     "prompt_number": 37
    },
    {
     "cell_type": "code",
     "collapsed": false,
     "input": "# modify \"ed_user\" - the object is now marked as *dirty*.\n\ned_user.fullname = 'Ed Jones'",
     "language": "python",
     "metadata": {},
     "outputs": [],
     "prompt_number": 39
    },
    {
     "cell_type": "code",
     "collapsed": false,
     "input": "session.dirty",
     "language": "python",
     "metadata": {},
     "outputs": [
      {
       "metadata": {},
       "output_type": "pyout",
       "prompt_number": 40,
       "text": "IdentitySet([<User('ed', 'Ed Jones')>])"
      }
     ],
     "prompt_number": 40
    },
    {
     "cell_type": "code",
     "collapsed": false,
     "input": "session.new",
     "language": "python",
     "metadata": {},
     "outputs": [
      {
       "metadata": {},
       "output_type": "pyout",
       "prompt_number": 41,
       "text": "IdentitySet([<User('wendy', 'Wendy Weathersmith')>, <User('fred', 'Fred Flinstone')>, <User('mary', 'Mary Contrary')>])"
      }
     ],
     "prompt_number": 41
    },
    {
     "cell_type": "code",
     "collapsed": false,
     "input": "# The whole transaction is committed.  Commit always triggers\n# a final flush of remaining changes.\n\nsession.commit()",
     "language": "python",
     "metadata": {},
     "outputs": [
      {
       "output_type": "stream",
       "stream": "stdout",
       "text": "2014-07-20 23:11:29,336 INFO sqlalchemy.engine.base.Engine UPDATE user SET fullname=? WHERE user.id = ?\n"
      },
      {
       "output_type": "stream",
       "stream": "stderr",
       "text": "INFO:sqlalchemy.engine.base.Engine:UPDATE user SET fullname=? WHERE user.id = ?\n"
      },
      {
       "output_type": "stream",
       "stream": "stdout",
       "text": "2014-07-20 23:11:29,337 INFO sqlalchemy.engine.base.Engine ('Ed Jones', 1)\n"
      },
      {
       "output_type": "stream",
       "stream": "stderr",
       "text": "INFO:sqlalchemy.engine.base.Engine:('Ed Jones', 1)\n"
      },
      {
       "output_type": "stream",
       "stream": "stdout",
       "text": "2014-07-20 23:11:29,339 INFO sqlalchemy.engine.base.Engine INSERT INTO user (name, fullname) VALUES (?, ?)\n"
      },
      {
       "output_type": "stream",
       "stream": "stderr",
       "text": "INFO:sqlalchemy.engine.base.Engine:INSERT INTO user (name, fullname) VALUES (?, ?)\n"
      },
      {
       "output_type": "stream",
       "stream": "stdout",
       "text": "2014-07-20 23:11:29,340 INFO sqlalchemy.engine.base.Engine ('wendy', 'Wendy Weathersmith')\n"
      },
      {
       "output_type": "stream",
       "stream": "stderr",
       "text": "INFO:sqlalchemy.engine.base.Engine:('wendy', 'Wendy Weathersmith')\n"
      },
      {
       "output_type": "stream",
       "stream": "stdout",
       "text": "2014-07-20 23:11:29,342 INFO sqlalchemy.engine.base.Engine INSERT INTO user (name, fullname) VALUES (?, ?)\n"
      },
      {
       "output_type": "stream",
       "stream": "stderr",
       "text": "INFO:sqlalchemy.engine.base.Engine:INSERT INTO user (name, fullname) VALUES (?, ?)\n"
      },
      {
       "output_type": "stream",
       "stream": "stdout",
       "text": "2014-07-20 23:11:29,343 INFO sqlalchemy.engine.base.Engine ('mary', 'Mary Contrary')\n"
      },
      {
       "output_type": "stream",
       "stream": "stderr",
       "text": "INFO:sqlalchemy.engine.base.Engine:('mary', 'Mary Contrary')\n"
      },
      {
       "output_type": "stream",
       "stream": "stdout",
       "text": "2014-07-20 23:11:29,344 INFO sqlalchemy.engine.base.Engine INSERT INTO user (name, fullname) VALUES (?, ?)\n"
      },
      {
       "output_type": "stream",
       "stream": "stderr",
       "text": "INFO:sqlalchemy.engine.base.Engine:INSERT INTO user (name, fullname) VALUES (?, ?)\n"
      },
      {
       "output_type": "stream",
       "stream": "stdout",
       "text": "2014-07-20 23:11:29,345 INFO sqlalchemy.engine.base.Engine ('fred', 'Fred Flinstone')\n"
      },
      {
       "output_type": "stream",
       "stream": "stderr",
       "text": "INFO:sqlalchemy.engine.base.Engine:('fred', 'Fred Flinstone')\n"
      },
      {
       "output_type": "stream",
       "stream": "stdout",
       "text": "2014-07-20 23:11:29,346 INFO sqlalchemy.engine.base.Engine COMMIT\n"
      },
      {
       "output_type": "stream",
       "stream": "stderr",
       "text": "INFO:sqlalchemy.engine.base.Engine:COMMIT\n"
      }
     ],
     "prompt_number": 42
    },
    {
     "cell_type": "code",
     "collapsed": false,
     "input": "# After a commit, theres no transaction.  The Session\n# *invalidates* all data, so that accessing them will automatically\n# start a *new* transaction and re-load from the database.\n\ned_user.fullname",
     "language": "python",
     "metadata": {},
     "outputs": [
      {
       "output_type": "stream",
       "stream": "stdout",
       "text": "2014-07-20 23:12:13,427 INFO sqlalchemy.engine.base.Engine BEGIN (implicit)\n"
      },
      {
       "output_type": "stream",
       "stream": "stderr",
       "text": "INFO:sqlalchemy.engine.base.Engine:BEGIN (implicit)\n"
      },
      {
       "output_type": "stream",
       "stream": "stdout",
       "text": "2014-07-20 23:12:13,429 INFO sqlalchemy.engine.base.Engine SELECT user.id AS user_id, user.name AS user_name, user.fullname AS user_fullname \nFROM user \nWHERE user.id = ?\n"
      },
      {
       "output_type": "stream",
       "stream": "stderr",
       "text": "INFO:sqlalchemy.engine.base.Engine:SELECT user.id AS user_id, user.name AS user_name, user.fullname AS user_fullname \nFROM user \nWHERE user.id = ?\n"
      },
      {
       "output_type": "stream",
       "stream": "stdout",
       "text": "2014-07-20 23:12:13,431 INFO sqlalchemy.engine.base.Engine (1,)\n"
      },
      {
       "output_type": "stream",
       "stream": "stderr",
       "text": "INFO:sqlalchemy.engine.base.Engine:(1,)\n"
      },
      {
       "metadata": {},
       "output_type": "pyout",
       "prompt_number": 43,
       "text": "u'Ed Jones'"
      }
     ],
     "prompt_number": 43
    },
    {
     "cell_type": "code",
     "collapsed": false,
     "input": "ed_user.name = 'Edwardo'\nfake_user = User(name='fakeuser', fullname='Invalid')\nsession.add(fake_user)",
     "language": "python",
     "metadata": {},
     "outputs": [],
     "prompt_number": 44
    },
    {
     "cell_type": "code",
     "collapsed": false,
     "input": "session.query(User).filter(User.name.in_(['Edwardo', 'fakeuser'])).all()",
     "language": "python",
     "metadata": {},
     "outputs": [
      {
       "output_type": "stream",
       "stream": "stdout",
       "text": "2014-07-20 23:13:27,324 INFO sqlalchemy.engine.base.Engine UPDATE user SET name=? WHERE user.id = ?\n"
      },
      {
       "output_type": "stream",
       "stream": "stderr",
       "text": "INFO:sqlalchemy.engine.base.Engine:UPDATE user SET name=? WHERE user.id = ?\n"
      },
      {
       "output_type": "stream",
       "stream": "stdout",
       "text": "2014-07-20 23:13:27,325 INFO sqlalchemy.engine.base.Engine ('Edwardo', 1)\n"
      },
      {
       "output_type": "stream",
       "stream": "stderr",
       "text": "INFO:sqlalchemy.engine.base.Engine:('Edwardo', 1)\n"
      },
      {
       "output_type": "stream",
       "stream": "stdout",
       "text": "2014-07-20 23:13:27,327 INFO sqlalchemy.engine.base.Engine INSERT INTO user (name, fullname) VALUES (?, ?)\n"
      },
      {
       "output_type": "stream",
       "stream": "stderr",
       "text": "INFO:sqlalchemy.engine.base.Engine:INSERT INTO user (name, fullname) VALUES (?, ?)\n"
      },
      {
       "output_type": "stream",
       "stream": "stdout",
       "text": "2014-07-20 23:13:27,328 INFO sqlalchemy.engine.base.Engine ('fakeuser', 'Invalid')\n"
      },
      {
       "output_type": "stream",
       "stream": "stderr",
       "text": "INFO:sqlalchemy.engine.base.Engine:('fakeuser', 'Invalid')\n"
      },
      {
       "output_type": "stream",
       "stream": "stdout",
       "text": "2014-07-20 23:13:27,330 INFO sqlalchemy.engine.base.Engine SELECT user.id AS user_id, user.name AS user_name, user.fullname AS user_fullname \nFROM user \nWHERE user.name IN (?, ?)\n"
      },
      {
       "output_type": "stream",
       "stream": "stderr",
       "text": "INFO:sqlalchemy.engine.base.Engine:SELECT user.id AS user_id, user.name AS user_name, user.fullname AS user_fullname \nFROM user \nWHERE user.name IN (?, ?)\n"
      },
      {
       "output_type": "stream",
       "stream": "stdout",
       "text": "2014-07-20 23:13:27,331 INFO sqlalchemy.engine.base.Engine ('Edwardo', 'fakeuser')\n"
      },
      {
       "output_type": "stream",
       "stream": "stderr",
       "text": "INFO:sqlalchemy.engine.base.Engine:('Edwardo', 'fakeuser')\n"
      },
      {
       "metadata": {},
       "output_type": "pyout",
       "prompt_number": 45,
       "text": "[<User('Edwardo', u'Ed Jones')>, <User('fakeuser', 'Invalid')>]"
      }
     ],
     "prompt_number": 45
    },
    {
     "cell_type": "code",
     "collapsed": false,
     "input": "# But we're inside of a transaction.  Roll it back.\nsession.rollback()",
     "language": "python",
     "metadata": {},
     "outputs": [
      {
       "output_type": "stream",
       "stream": "stdout",
       "text": "2014-07-20 23:13:47,085 INFO sqlalchemy.engine.base.Engine ROLLBACK\n"
      },
      {
       "output_type": "stream",
       "stream": "stderr",
       "text": "INFO:sqlalchemy.engine.base.Engine:ROLLBACK\n"
      }
     ],
     "prompt_number": 46
    },
    {
     "cell_type": "code",
     "collapsed": false,
     "input": "# ed_user's name is back to normal\ned_user.name",
     "language": "python",
     "metadata": {},
     "outputs": [
      {
       "output_type": "stream",
       "stream": "stdout",
       "text": "2014-07-20 23:13:59,969 INFO sqlalchemy.engine.base.Engine BEGIN (implicit)\n"
      },
      {
       "output_type": "stream",
       "stream": "stderr",
       "text": "INFO:sqlalchemy.engine.base.Engine:BEGIN (implicit)\n"
      },
      {
       "output_type": "stream",
       "stream": "stdout",
       "text": "2014-07-20 23:13:59,972 INFO sqlalchemy.engine.base.Engine SELECT user.id AS user_id, user.name AS user_name, user.fullname AS user_fullname \nFROM user \nWHERE user.id = ?\n"
      },
      {
       "output_type": "stream",
       "stream": "stderr",
       "text": "INFO:sqlalchemy.engine.base.Engine:SELECT user.id AS user_id, user.name AS user_name, user.fullname AS user_fullname \nFROM user \nWHERE user.id = ?\n"
      },
      {
       "output_type": "stream",
       "stream": "stdout",
       "text": "2014-07-20 23:13:59,973 INFO sqlalchemy.engine.base.Engine (1,)\n"
      },
      {
       "output_type": "stream",
       "stream": "stderr",
       "text": "INFO:sqlalchemy.engine.base.Engine:(1,)\n"
      },
      {
       "metadata": {},
       "output_type": "pyout",
       "prompt_number": 47,
       "text": "u'ed'"
      }
     ],
     "prompt_number": 47
    },
    {
     "cell_type": "code",
     "collapsed": false,
     "input": "# \"fake_user\" has been evicted from the session.\nfake_user in session",
     "language": "python",
     "metadata": {},
     "outputs": [
      {
       "metadata": {},
       "output_type": "pyout",
       "prompt_number": 48,
       "text": "False"
      }
     ],
     "prompt_number": 48
    },
    {
     "cell_type": "code",
     "collapsed": false,
     "input": "# and the data is gone from the database too.\n\nsession.query(User).filter(User.name.in_(['ed', 'fakeuser'])).all()",
     "language": "python",
     "metadata": {},
     "outputs": [
      {
       "output_type": "stream",
       "stream": "stdout",
       "text": "2014-07-20 23:14:47,000 INFO sqlalchemy.engine.base.Engine SELECT user.id AS user_id, user.name AS user_name, user.fullname AS user_fullname \nFROM user \nWHERE user.name IN (?, ?)\n"
      },
      {
       "output_type": "stream",
       "stream": "stderr",
       "text": "INFO:sqlalchemy.engine.base.Engine:SELECT user.id AS user_id, user.name AS user_name, user.fullname AS user_fullname \nFROM user \nWHERE user.name IN (?, ?)\n"
      },
      {
       "output_type": "stream",
       "stream": "stdout",
       "text": "2014-07-20 23:14:47,001 INFO sqlalchemy.engine.base.Engine ('ed', 'fakeuser')\n"
      },
      {
       "output_type": "stream",
       "stream": "stderr",
       "text": "INFO:sqlalchemy.engine.base.Engine:('ed', 'fakeuser')\n"
      },
      {
       "metadata": {},
       "output_type": "pyout",
       "prompt_number": 49,
       "text": "[<User(u'ed', u'Ed Jones')>]"
      }
     ],
     "prompt_number": 49
    },
    {
     "cell_type": "code",
     "collapsed": false,
     "input": "#ORM Querying\n# The attributes on our mapped class act like Column objects, and\n# produce SQL expressions.\nprint(User.name == \"ed\")",
     "language": "python",
     "metadata": {},
     "outputs": [
      {
       "output_type": "stream",
       "stream": "stdout",
       "text": "\"user\".name = :name_1\n"
      }
     ],
     "prompt_number": 50
    },
    {
     "cell_type": "code",
     "collapsed": false,
     "input": "# These SQL expressions are compatible with the select() object\n# we introduced earlier.\n\nfrom sqlalchemy import select\n\nsel = select([User.name, User.fullname]).\\\n        where(User.name == 'ed').\\\n        order_by(User.id)\n\nsession.connection().execute(sel).fetchall()",
     "language": "python",
     "metadata": {},
     "outputs": [
      {
       "output_type": "stream",
       "stream": "stdout",
       "text": "2014-07-21 22:56:38,751 INFO sqlalchemy.engine.base.Engine SELECT user.name, user.fullname \nFROM user \nWHERE user.name = ? ORDER BY user.id\n"
      },
      {
       "output_type": "stream",
       "stream": "stderr",
       "text": "INFO:sqlalchemy.engine.base.Engine:SELECT user.name, user.fullname \nFROM user \nWHERE user.name = ? ORDER BY user.id\n"
      },
      {
       "output_type": "stream",
       "stream": "stdout",
       "text": "2014-07-21 22:56:38,753 INFO sqlalchemy.engine.base.Engine ('ed',)\n"
      },
      {
       "output_type": "stream",
       "stream": "stderr",
       "text": "INFO:sqlalchemy.engine.base.Engine:('ed',)\n"
      },
      {
       "metadata": {},
       "output_type": "pyout",
       "prompt_number": 51,
       "text": "[(u'ed', u'Ed Jones')]"
      }
     ],
     "prompt_number": 51
    },
    {
     "cell_type": "code",
     "collapsed": false,
     "input": "# but when using the ORM, the Query() object provides a lot more functionality,\n# here selecting the User *entity*.\n\nquery = session.query(User).filter(User.name == 'ed').order_by(User.id)\n\nquery.all()",
     "language": "python",
     "metadata": {},
     "outputs": [
      {
       "output_type": "stream",
       "stream": "stdout",
       "text": "2014-07-21 22:57:01,606 INFO sqlalchemy.engine.base.Engine SELECT user.id AS user_id, user.name AS user_name, user.fullname AS user_fullname \nFROM user \nWHERE user.name = ? ORDER BY user.id\n"
      },
      {
       "output_type": "stream",
       "stream": "stderr",
       "text": "INFO:sqlalchemy.engine.base.Engine:SELECT user.id AS user_id, user.name AS user_name, user.fullname AS user_fullname \nFROM user \nWHERE user.name = ? ORDER BY user.id\n"
      },
      {
       "output_type": "stream",
       "stream": "stdout",
       "text": "2014-07-21 22:57:01,607 INFO sqlalchemy.engine.base.Engine ('ed',)\n"
      },
      {
       "output_type": "stream",
       "stream": "stderr",
       "text": "INFO:sqlalchemy.engine.base.Engine:('ed',)\n"
      },
      {
       "metadata": {},
       "output_type": "pyout",
       "prompt_number": 52,
       "text": "[<User(u'ed', u'Ed Jones')>]"
      }
     ],
     "prompt_number": 52
    },
    {
     "cell_type": "code",
     "collapsed": false,
     "input": "# Query can also return individual columns\n\nfor name, fullname in session.query(User.name, User.fullname):\n    print(name, fullname)",
     "language": "python",
     "metadata": {},
     "outputs": [
      {
       "output_type": "stream",
       "stream": "stdout",
       "text": "2014-07-21 22:58:23,331 INFO sqlalchemy.engine.base.Engine SELECT user.name AS user_name, user.fullname AS user_fullname \nFROM user\n"
      },
      {
       "output_type": "stream",
       "stream": "stderr",
       "text": "INFO:sqlalchemy.engine.base.Engine:SELECT user.name AS user_name, user.fullname AS user_fullname \nFROM user\n"
      },
      {
       "output_type": "stream",
       "stream": "stdout",
       "text": "2014-07-21 22:58:23,333 INFO sqlalchemy.engine.base.Engine ()\n"
      },
      {
       "output_type": "stream",
       "stream": "stderr",
       "text": "INFO:sqlalchemy.engine.base.Engine:()\n"
      },
      {
       "output_type": "stream",
       "stream": "stdout",
       "text": "(u'ed', u'Ed Jones')\n(u'wendy', u'Wendy Weathersmith')\n(u'mary', u'Mary Contrary')\n(u'fred', u'Fred Flinstone')\n"
      }
     ],
     "prompt_number": 53
    },
    {
     "cell_type": "code",
     "collapsed": false,
     "input": "# and can mix entities / columns together.\n\nfor row in session.query(User, User.name):\n    print(row.User, row.name)",
     "language": "python",
     "metadata": {},
     "outputs": [
      {
       "output_type": "stream",
       "stream": "stdout",
       "text": "2014-07-21 22:58:50,640 INFO sqlalchemy.engine.base.Engine SELECT user.id AS user_id, user.name AS user_name, user.fullname AS user_fullname \nFROM user\n"
      },
      {
       "output_type": "stream",
       "stream": "stderr",
       "text": "INFO:sqlalchemy.engine.base.Engine:SELECT user.id AS user_id, user.name AS user_name, user.fullname AS user_fullname \nFROM user\n"
      },
      {
       "output_type": "stream",
       "stream": "stdout",
       "text": "2014-07-21 22:58:50,642 INFO sqlalchemy.engine.base.Engine ()\n"
      },
      {
       "output_type": "stream",
       "stream": "stderr",
       "text": "INFO:sqlalchemy.engine.base.Engine:()\n"
      },
      {
       "output_type": "stream",
       "stream": "stdout",
       "text": "(<User(u'ed', u'Ed Jones')>, u'ed')\n(<User(u'wendy', u'Wendy Weathersmith')>, u'wendy')\n(<User(u'mary', u'Mary Contrary')>, u'mary')\n(<User(u'fred', u'Fred Flinstone')>, u'fred')\n"
      }
     ],
     "prompt_number": 54
    },
    {
     "cell_type": "code",
     "collapsed": false,
     "input": "# Array indexes will OFFSET to that index and LIMIT by one...\n\nu = session.query(User).order_by(User.id)[2]\nprint(u)\n\n### slide:: pi\n# and array slices work too.\n\nfor u in session.query(User).order_by(User.id)[1:3]:\n    print(u)",
     "language": "python",
     "metadata": {},
     "outputs": [
      {
       "output_type": "stream",
       "stream": "stdout",
       "text": "2014-07-21 22:59:14,577 INFO sqlalchemy.engine.base.Engine SELECT user.id AS user_id, user.name AS user_name, user.fullname AS user_fullname \nFROM user ORDER BY user.id\n LIMIT ? OFFSET ?\n"
      },
      {
       "output_type": "stream",
       "stream": "stderr",
       "text": "INFO:sqlalchemy.engine.base.Engine:SELECT user.id AS user_id, user.name AS user_name, user.fullname AS user_fullname \nFROM user ORDER BY user.id\n LIMIT ? OFFSET ?\n"
      },
      {
       "output_type": "stream",
       "stream": "stdout",
       "text": "2014-07-21 22:59:14,579 INFO sqlalchemy.engine.base.Engine (1, 2)\n"
      },
      {
       "output_type": "stream",
       "stream": "stderr",
       "text": "INFO:sqlalchemy.engine.base.Engine:(1, 2)\n"
      },
      {
       "output_type": "stream",
       "stream": "stdout",
       "text": "<User(u'mary', u'Mary Contrary')>\n2014-07-21 22:59:14,582 INFO sqlalchemy.engine.base.Engine SELECT user.id AS user_id, user.name AS user_name, user.fullname AS user_fullname \nFROM user ORDER BY user.id\n LIMIT ? OFFSET ?\n"
      },
      {
       "output_type": "stream",
       "stream": "stderr",
       "text": "INFO:sqlalchemy.engine.base.Engine:SELECT user.id AS user_id, user.name AS user_name, user.fullname AS user_fullname \nFROM user ORDER BY user.id\n LIMIT ? OFFSET ?\n"
      },
      {
       "output_type": "stream",
       "stream": "stdout",
       "text": "2014-07-21 22:59:14,584 INFO sqlalchemy.engine.base.Engine (2, 1)\n"
      },
      {
       "output_type": "stream",
       "stream": "stderr",
       "text": "INFO:sqlalchemy.engine.base.Engine:(2, 1)\n"
      },
      {
       "output_type": "stream",
       "stream": "stdout",
       "text": "<User(u'wendy', u'Wendy Weathersmith')>\n<User(u'mary', u'Mary Contrary')>\n"
      }
     ],
     "prompt_number": 55
    },
    {
     "cell_type": "code",
     "collapsed": false,
     "input": "# the WHERE clause is either by filter_by(), which is convenient\n\nfor name, in session.query(User.name).\\\n                filter_by(fullname='Ed Jones'):\n    print(name)\n\n### slide:: p\n# or filter(), which is more flexible\n\nfor name, in session.query(User.name).\\\n                filter(User.fullname == 'Ed Jones'):\n    print(name)",
     "language": "python",
     "metadata": {},
     "outputs": [
      {
       "output_type": "stream",
       "stream": "stdout",
       "text": "2014-07-21 22:59:27,979 INFO sqlalchemy.engine.base.Engine SELECT user.name AS user_name \nFROM user \nWHERE user.fullname = ?\n"
      },
      {
       "output_type": "stream",
       "stream": "stderr",
       "text": "INFO:sqlalchemy.engine.base.Engine:SELECT user.name AS user_name \nFROM user \nWHERE user.fullname = ?\n"
      },
      {
       "output_type": "stream",
       "stream": "stdout",
       "text": "2014-07-21 22:59:27,981 INFO sqlalchemy.engine.base.Engine ('Ed Jones',)\n"
      },
      {
       "output_type": "stream",
       "stream": "stderr",
       "text": "INFO:sqlalchemy.engine.base.Engine:('Ed Jones',)\n"
      },
      {
       "output_type": "stream",
       "stream": "stdout",
       "text": "ed\n2014-07-21 22:59:27,984 INFO sqlalchemy.engine.base.Engine SELECT user.name AS user_name \nFROM user \nWHERE user.fullname = ?\n"
      },
      {
       "output_type": "stream",
       "stream": "stderr",
       "text": "INFO:sqlalchemy.engine.base.Engine:SELECT user.name AS user_name \nFROM user \nWHERE user.fullname = ?\n"
      },
      {
       "output_type": "stream",
       "stream": "stdout",
       "text": "2014-07-21 22:59:27,985 INFO sqlalchemy.engine.base.Engine ('Ed Jones',)\n"
      },
      {
       "output_type": "stream",
       "stream": "stderr",
       "text": "INFO:sqlalchemy.engine.base.Engine:('Ed Jones',)\n"
      },
      {
       "output_type": "stream",
       "stream": "stdout",
       "text": "ed\n"
      }
     ],
     "prompt_number": 56
    },
    {
     "cell_type": "code",
     "collapsed": false,
     "input": "# conjunctions can be passed to filter() as well\n\nfrom sqlalchemy import or_\n\nfor name, in session.query(User.name).\\\n                filter(or_(User.fullname == 'Ed Jones', User.id < 5)):\n    print(name)",
     "language": "python",
     "metadata": {},
     "outputs": [
      {
       "output_type": "stream",
       "stream": "stdout",
       "text": "2014-07-21 22:59:51,987 INFO sqlalchemy.engine.base.Engine SELECT user.name AS user_name \nFROM user \nWHERE user.fullname = ? OR user.id < ?\n"
      },
      {
       "output_type": "stream",
       "stream": "stderr",
       "text": "INFO:sqlalchemy.engine.base.Engine:SELECT user.name AS user_name \nFROM user \nWHERE user.fullname = ? OR user.id < ?\n"
      },
      {
       "output_type": "stream",
       "stream": "stdout",
       "text": "2014-07-21 22:59:51,989 INFO sqlalchemy.engine.base.Engine ('Ed Jones', 5)\n"
      },
      {
       "output_type": "stream",
       "stream": "stderr",
       "text": "INFO:sqlalchemy.engine.base.Engine:('Ed Jones', 5)\n"
      },
      {
       "output_type": "stream",
       "stream": "stdout",
       "text": "ed\nwendy\nmary\nfred\n"
      }
     ],
     "prompt_number": 57
    },
    {
     "cell_type": "code",
     "collapsed": false,
     "input": "# multiple filter() calls join by AND just like select().where()\n\nfor user in session.query(User).\\\n                        filter(User.name == 'ed').\\\n                        filter(User.fullname == 'Ed Jones'):\n    print(user)",
     "language": "python",
     "metadata": {},
     "outputs": [
      {
       "output_type": "stream",
       "stream": "stdout",
       "text": "2014-07-21 23:00:10,619 INFO sqlalchemy.engine.base.Engine SELECT user.id AS user_id, user.name AS user_name, user.fullname AS user_fullname \nFROM user \nWHERE user.name = ? AND user.fullname = ?\n"
      },
      {
       "output_type": "stream",
       "stream": "stderr",
       "text": "INFO:sqlalchemy.engine.base.Engine:SELECT user.id AS user_id, user.name AS user_name, user.fullname AS user_fullname \nFROM user \nWHERE user.name = ? AND user.fullname = ?\n"
      },
      {
       "output_type": "stream",
       "stream": "stdout",
       "text": "2014-07-21 23:00:10,621 INFO sqlalchemy.engine.base.Engine ('ed', 'Ed Jones')\n"
      },
      {
       "output_type": "stream",
       "stream": "stderr",
       "text": "INFO:sqlalchemy.engine.base.Engine:('ed', 'Ed Jones')\n"
      },
      {
       "output_type": "stream",
       "stream": "stdout",
       "text": "<User(u'ed', u'Ed Jones')>\n"
      }
     ],
     "prompt_number": 58
    },
    {
     "cell_type": "code",
     "collapsed": false,
     "input": "query = session.query(User).filter_by(fullname='Ed Jones')",
     "language": "python",
     "metadata": {},
     "outputs": [],
     "prompt_number": 59
    },
    {
     "cell_type": "code",
     "collapsed": false,
     "input": "# all() returns a list\n\nquery.all()",
     "language": "python",
     "metadata": {},
     "outputs": [
      {
       "output_type": "stream",
       "stream": "stdout",
       "text": "2014-07-21 23:00:59,225 INFO sqlalchemy.engine.base.Engine SELECT user.id AS user_id, user.name AS user_name, user.fullname AS user_fullname \nFROM user \nWHERE user.fullname = ?\n"
      },
      {
       "output_type": "stream",
       "stream": "stderr",
       "text": "INFO:sqlalchemy.engine.base.Engine:SELECT user.id AS user_id, user.name AS user_name, user.fullname AS user_fullname \nFROM user \nWHERE user.fullname = ?\n"
      },
      {
       "output_type": "stream",
       "stream": "stdout",
       "text": "2014-07-21 23:00:59,226 INFO sqlalchemy.engine.base.Engine ('Ed Jones',)\n"
      },
      {
       "output_type": "stream",
       "stream": "stderr",
       "text": "INFO:sqlalchemy.engine.base.Engine:('Ed Jones',)\n"
      },
      {
       "metadata": {},
       "output_type": "pyout",
       "prompt_number": 60,
       "text": "[<User(u'ed', u'Ed Jones')>]"
      }
     ],
     "prompt_number": 60
    },
    {
     "cell_type": "code",
     "collapsed": false,
     "input": "# first() returns the first row, or None\n\nquery.first()\n",
     "language": "python",
     "metadata": {},
     "outputs": [
      {
       "output_type": "stream",
       "stream": "stdout",
       "text": "2014-07-21 23:01:07,109 INFO sqlalchemy.engine.base.Engine SELECT user.id AS user_id, user.name AS user_name, user.fullname AS user_fullname \nFROM user \nWHERE user.fullname = ?\n LIMIT ? OFFSET ?\n"
      },
      {
       "output_type": "stream",
       "stream": "stderr",
       "text": "INFO:sqlalchemy.engine.base.Engine:SELECT user.id AS user_id, user.name AS user_name, user.fullname AS user_fullname \nFROM user \nWHERE user.fullname = ?\n LIMIT ? OFFSET ?\n"
      },
      {
       "output_type": "stream",
       "stream": "stdout",
       "text": "2014-07-21 23:01:07,110 INFO sqlalchemy.engine.base.Engine ('Ed Jones', 1, 0)\n"
      },
      {
       "output_type": "stream",
       "stream": "stderr",
       "text": "INFO:sqlalchemy.engine.base.Engine:('Ed Jones', 1, 0)\n"
      },
      {
       "metadata": {},
       "output_type": "pyout",
       "prompt_number": 61,
       "text": "<User(u'ed', u'Ed Jones')>"
      }
     ],
     "prompt_number": 61
    },
    {
     "cell_type": "code",
     "collapsed": false,
     "input": "# one() returns the first row and verifies that there's one and only one\n\nquery.one()",
     "language": "python",
     "metadata": {},
     "outputs": [
      {
       "output_type": "stream",
       "stream": "stdout",
       "text": "2014-07-21 23:01:16,107 INFO sqlalchemy.engine.base.Engine SELECT user.id AS user_id, user.name AS user_name, user.fullname AS user_fullname \nFROM user \nWHERE user.fullname = ?\n"
      },
      {
       "output_type": "stream",
       "stream": "stderr",
       "text": "INFO:sqlalchemy.engine.base.Engine:SELECT user.id AS user_id, user.name AS user_name, user.fullname AS user_fullname \nFROM user \nWHERE user.fullname = ?\n"
      },
      {
       "output_type": "stream",
       "stream": "stdout",
       "text": "2014-07-21 23:01:16,109 INFO sqlalchemy.engine.base.Engine ('Ed Jones',)\n"
      },
      {
       "output_type": "stream",
       "stream": "stderr",
       "text": "INFO:sqlalchemy.engine.base.Engine:('Ed Jones',)\n"
      },
      {
       "metadata": {},
       "output_type": "pyout",
       "prompt_number": 62,
       "text": "<User(u'ed', u'Ed Jones')>"
      }
     ],
     "prompt_number": 62
    },
    {
     "cell_type": "code",
     "collapsed": false,
     "input": "# if there's not one(), you get an error\n\nquery = session.query(User).filter_by(fullname='nonexistent')\nquery.one()\n",
     "language": "python",
     "metadata": {},
     "outputs": [
      {
       "output_type": "stream",
       "stream": "stdout",
       "text": "2014-07-21 23:01:27,357 INFO sqlalchemy.engine.base.Engine SELECT user.id AS user_id, user.name AS user_name, user.fullname AS user_fullname \nFROM user \nWHERE user.fullname = ?\n"
      },
      {
       "output_type": "stream",
       "stream": "stderr",
       "text": "INFO:sqlalchemy.engine.base.Engine:SELECT user.id AS user_id, user.name AS user_name, user.fullname AS user_fullname \nFROM user \nWHERE user.fullname = ?\n"
      },
      {
       "output_type": "stream",
       "stream": "stdout",
       "text": "2014-07-21 23:01:27,359 INFO sqlalchemy.engine.base.Engine ('nonexistent',)\n"
      },
      {
       "output_type": "stream",
       "stream": "stderr",
       "text": "INFO:sqlalchemy.engine.base.Engine:('nonexistent',)\n"
      },
      {
       "ename": "NoResultFound",
       "evalue": "No row was found for one()",
       "output_type": "pyerr",
       "traceback": [
        "\u001b[0;31m---------------------------------------------------------------------------\u001b[0m\n\u001b[0;31mNoResultFound\u001b[0m                             Traceback (most recent call last)",
        "\u001b[0;32m<ipython-input-63-f32429fb1b51>\u001b[0m in \u001b[0;36m<module>\u001b[0;34m()\u001b[0m\n\u001b[1;32m      2\u001b[0m \u001b[0;34m\u001b[0m\u001b[0m\n\u001b[1;32m      3\u001b[0m \u001b[0mquery\u001b[0m \u001b[0;34m=\u001b[0m \u001b[0msession\u001b[0m\u001b[0;34m.\u001b[0m\u001b[0mquery\u001b[0m\u001b[0;34m(\u001b[0m\u001b[0mUser\u001b[0m\u001b[0;34m)\u001b[0m\u001b[0;34m.\u001b[0m\u001b[0mfilter_by\u001b[0m\u001b[0;34m(\u001b[0m\u001b[0mfullname\u001b[0m\u001b[0;34m=\u001b[0m\u001b[0;34m'nonexistent'\u001b[0m\u001b[0;34m)\u001b[0m\u001b[0;34m\u001b[0m\u001b[0m\n\u001b[0;32m----> 4\u001b[0;31m \u001b[0mquery\u001b[0m\u001b[0;34m.\u001b[0m\u001b[0mone\u001b[0m\u001b[0;34m(\u001b[0m\u001b[0;34m)\u001b[0m\u001b[0;34m\u001b[0m\u001b[0m\n\u001b[0m",
        "\u001b[0;32m/Users/anupkalburgi/test/demo/lib/python2.7/site-packages/sqlalchemy/orm/query.pyc\u001b[0m in \u001b[0;36mone\u001b[0;34m(self)\u001b[0m\n\u001b[1;32m   2366\u001b[0m             \u001b[0;32mreturn\u001b[0m \u001b[0mret\u001b[0m\u001b[0;34m[\u001b[0m\u001b[0;36m0\u001b[0m\u001b[0;34m]\u001b[0m\u001b[0;34m\u001b[0m\u001b[0m\n\u001b[1;32m   2367\u001b[0m         \u001b[0;32melif\u001b[0m \u001b[0ml\u001b[0m \u001b[0;34m==\u001b[0m \u001b[0;36m0\u001b[0m\u001b[0;34m:\u001b[0m\u001b[0;34m\u001b[0m\u001b[0m\n\u001b[0;32m-> 2368\u001b[0;31m             \u001b[0;32mraise\u001b[0m \u001b[0morm_exc\u001b[0m\u001b[0;34m.\u001b[0m\u001b[0mNoResultFound\u001b[0m\u001b[0;34m(\u001b[0m\u001b[0;34m\"No row was found for one()\"\u001b[0m\u001b[0;34m)\u001b[0m\u001b[0;34m\u001b[0m\u001b[0m\n\u001b[0m\u001b[1;32m   2369\u001b[0m         \u001b[0;32melse\u001b[0m\u001b[0;34m:\u001b[0m\u001b[0;34m\u001b[0m\u001b[0m\n\u001b[1;32m   2370\u001b[0m             raise orm_exc.MultipleResultsFound(\n",
        "\u001b[0;31mNoResultFound\u001b[0m: No row was found for one()"
       ]
      }
     ],
     "prompt_number": 63
    },
    {
     "cell_type": "code",
     "collapsed": false,
     "input": "# if there's more than one(), you get an error\n\nquery = session.query(User)\nquery.one()",
     "language": "python",
     "metadata": {},
     "outputs": [
      {
       "output_type": "stream",
       "stream": "stdout",
       "text": "2014-07-21 23:01:46,916 INFO sqlalchemy.engine.base.Engine SELECT user.id AS user_id, user.name AS user_name, user.fullname AS user_fullname \nFROM user\n"
      },
      {
       "output_type": "stream",
       "stream": "stderr",
       "text": "INFO:sqlalchemy.engine.base.Engine:SELECT user.id AS user_id, user.name AS user_name, user.fullname AS user_fullname \nFROM user\n"
      },
      {
       "output_type": "stream",
       "stream": "stdout",
       "text": "2014-07-21 23:01:46,917 INFO sqlalchemy.engine.base.Engine ()\n"
      },
      {
       "output_type": "stream",
       "stream": "stderr",
       "text": "INFO:sqlalchemy.engine.base.Engine:()\n"
      },
      {
       "ename": "MultipleResultsFound",
       "evalue": "Multiple rows were found for one()",
       "output_type": "pyerr",
       "traceback": [
        "\u001b[0;31m---------------------------------------------------------------------------\u001b[0m\n\u001b[0;31mMultipleResultsFound\u001b[0m                      Traceback (most recent call last)",
        "\u001b[0;32m<ipython-input-64-ceeffc60c5f6>\u001b[0m in \u001b[0;36m<module>\u001b[0;34m()\u001b[0m\n\u001b[1;32m      2\u001b[0m \u001b[0;34m\u001b[0m\u001b[0m\n\u001b[1;32m      3\u001b[0m \u001b[0mquery\u001b[0m \u001b[0;34m=\u001b[0m \u001b[0msession\u001b[0m\u001b[0;34m.\u001b[0m\u001b[0mquery\u001b[0m\u001b[0;34m(\u001b[0m\u001b[0mUser\u001b[0m\u001b[0;34m)\u001b[0m\u001b[0;34m\u001b[0m\u001b[0m\n\u001b[0;32m----> 4\u001b[0;31m \u001b[0mquery\u001b[0m\u001b[0;34m.\u001b[0m\u001b[0mone\u001b[0m\u001b[0;34m(\u001b[0m\u001b[0;34m)\u001b[0m\u001b[0;34m\u001b[0m\u001b[0m\n\u001b[0m",
        "\u001b[0;32m/Users/anupkalburgi/test/demo/lib/python2.7/site-packages/sqlalchemy/orm/query.pyc\u001b[0m in \u001b[0;36mone\u001b[0;34m(self)\u001b[0m\n\u001b[1;32m   2369\u001b[0m         \u001b[0;32melse\u001b[0m\u001b[0;34m:\u001b[0m\u001b[0;34m\u001b[0m\u001b[0m\n\u001b[1;32m   2370\u001b[0m             raise orm_exc.MultipleResultsFound(\n\u001b[0;32m-> 2371\u001b[0;31m                 \"Multiple rows were found for one()\")\n\u001b[0m\u001b[1;32m   2372\u001b[0m \u001b[0;34m\u001b[0m\u001b[0m\n\u001b[1;32m   2373\u001b[0m     \u001b[0;32mdef\u001b[0m \u001b[0mscalar\u001b[0m\u001b[0;34m(\u001b[0m\u001b[0mself\u001b[0m\u001b[0;34m)\u001b[0m\u001b[0;34m:\u001b[0m\u001b[0;34m\u001b[0m\u001b[0m\n",
        "\u001b[0;31mMultipleResultsFound\u001b[0m: Multiple rows were found for one()"
       ]
      }
     ],
     "prompt_number": 64
    },
    {
     "cell_type": "code",
     "collapsed": false,
     "input": "",
     "language": "python",
     "metadata": {},
     "outputs": []
    }
   ],
   "metadata": {}
  }
 ]
}