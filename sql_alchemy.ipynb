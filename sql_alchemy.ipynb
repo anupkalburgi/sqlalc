{
 "metadata": {
  "name": "sql_alchemy"
 },
 "nbformat": 3,
 "nbformat_minor": 0,
 "worksheets": [
  {
   "cells": [
    {
     "cell_type": "code",
     "collapsed": false,
     "input": "from sqlalchemy.ext.declarative import declarative_base\nBase = declarative_base()  # declarative system is that one defines a class to be mapped, and then \\\n#applies to this class a series of directives \n\nfrom sqlalchemy import Column, Integer, String",
     "language": "python",
     "metadata": {},
     "outputs": [],
     "prompt_number": 2
    },
    {
     "cell_type": "code",
     "collapsed": false,
     "input": "class User(Base):\n    __tablename__ = 'user'\n\n    id = Column(Integer, primary_key=True)\n    name = Column(String)\n    fullname = Column(String)\n\n    def __repr__(self):  ## __repr__ is optional.\n        return \"<User(%r, %r)>\" % (self.name, self.fullname)",
     "language": "python",
     "metadata": {},
     "outputs": [],
     "prompt_number": 4
    },
    {
     "cell_type": "code",
     "collapsed": false,
     "input": "# the User class now has a Table object associated with it.\nUser.__table__",
     "language": "python",
     "metadata": {},
     "outputs": [
      {
       "metadata": {},
       "output_type": "pyout",
       "prompt_number": 5,
       "text": "Table('user', MetaData(bind=None), Column('id', Integer(), table=<user>, primary_key=True, nullable=False), Column('name', String(), table=<user>), Column('fullname', String(), table=<user>), schema=None)"
      }
     ],
     "prompt_number": 5
    },
    {
     "cell_type": "code",
     "collapsed": false,
     "input": "# The Mapper object mediates the relationship between User\n# and the \"user\" Table object.\nUser.__mapper__",
     "language": "python",
     "metadata": {},
     "outputs": [
      {
       "metadata": {},
       "output_type": "pyout",
       "prompt_number": 6,
       "text": "<Mapper at 0x103bc56d0; User>"
      }
     ],
     "prompt_number": 6
    },
    {
     "cell_type": "code",
     "collapsed": false,
     "input": "# User has a default constructor, accepting field names\n# as arguments.\n\ned_user = User(name='ed', fullname='Edward Jones')",
     "language": "python",
     "metadata": {},
     "outputs": [],
     "prompt_number": 7
    },
    {
     "cell_type": "code",
     "collapsed": false,
     "input": "print ed_user",
     "language": "python",
     "metadata": {},
     "outputs": [
      {
       "output_type": "stream",
       "stream": "stdout",
       "text": "<User('ed', 'Edward Jones')>\n"
      }
     ],
     "prompt_number": 8
    },
    {
     "cell_type": "code",
     "collapsed": false,
     "input": "\nprint(ed_user.name, ed_user.fullname)\nprint(ed_user.id)",
     "language": "python",
     "metadata": {},
     "outputs": [
      {
       "output_type": "stream",
       "stream": "stdout",
       "text": "('ed', 'Edward Jones')\nNone\n"
      }
     ],
     "prompt_number": 9
    },
    {
     "cell_type": "code",
     "collapsed": false,
     "input": "",
     "language": "python",
     "metadata": {},
     "outputs": []
    }
   ],
   "metadata": {}
  }
 ]
}