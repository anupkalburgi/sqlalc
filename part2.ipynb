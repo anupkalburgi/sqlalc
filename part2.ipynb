{
 "metadata": {
  "name": "",
  "signature": "sha256:806d3d08fbf8578014414e35f58a17c3fa3bd921d007347126da8f93b014a97c"
 },
 "nbformat": 3,
 "nbformat_minor": 0,
 "worksheets": [
  {
   "cells": [
    {
     "cell_type": "code",
     "collapsed": false,
     "input": [
      "from sqlalchemy.ext.declarative import declarative_base\n",
      "Base = declarative_base()\n",
      "\n",
      "from sqlalchemy import create_engine\n",
      "engine = create_engine('sqlite:///:memory:', echo=True)"
     ],
     "language": "python",
     "metadata": {},
     "outputs": [],
     "prompt_number": 35
    },
    {
     "cell_type": "code",
     "collapsed": false,
     "input": [
      "from sqlalchemy import ForeignKey, Column, Integer, String\n",
      "from sqlalchemy.orm import relationship\n",
      "\n",
      "class User(Base):\n",
      "    __tablename__ = 'user'\n",
      "\n",
      "    id = Column(Integer, primary_key=True)\n",
      "    name = Column(String)\n",
      "    fullname = Column(String)\n",
      "\n",
      "    def __repr__(self):\n",
      "        return \"<User(%r, %r)>\" % (\n",
      "                self.name, self.fullname\n",
      "            )\n",
      "\n",
      "class Address(Base):\n",
      "    __tablename__ = 'address'\n",
      "\n",
      "    id = Column(Integer, primary_key=True)\n",
      "    email_address = Column(String, nullable=False)\n",
      "    user_id = Column(Integer, ForeignKey('user.id'))\n",
      "\n",
      "    user = relationship(\"User\", backref=\"addresses\")\n",
      "\n",
      "    def __repr__(self):\n",
      "        return \"<Address(%r)>\" % self.email_address\n",
      "\n",
      "Base.metadata.create_all(engine)"
     ],
     "language": "python",
     "metadata": {},
     "outputs": [
      {
       "output_type": "stream",
       "stream": "stdout",
       "text": [
        "2014-07-22 22:40:37,021 INFO sqlalchemy.engine.base.Engine SELECT CAST('test plain returns' AS VARCHAR(60)) AS anon_1\n"
       ]
      },
      {
       "output_type": "stream",
       "stream": "stderr",
       "text": [
        "INFO:sqlalchemy.engine.base.Engine:SELECT CAST('test plain returns' AS VARCHAR(60)) AS anon_1\n"
       ]
      },
      {
       "output_type": "stream",
       "stream": "stdout",
       "text": [
        "2014-07-22 22:40:37,023 INFO sqlalchemy.engine.base.Engine ()\n"
       ]
      },
      {
       "output_type": "stream",
       "stream": "stderr",
       "text": [
        "INFO:sqlalchemy.engine.base.Engine:()\n"
       ]
      },
      {
       "output_type": "stream",
       "stream": "stdout",
       "text": [
        "2014-07-22 22:40:37,024 INFO sqlalchemy.engine.base.Engine SELECT CAST('test unicode returns' AS VARCHAR(60)) AS anon_1\n"
       ]
      },
      {
       "output_type": "stream",
       "stream": "stderr",
       "text": [
        "INFO:sqlalchemy.engine.base.Engine:SELECT CAST('test unicode returns' AS VARCHAR(60)) AS anon_1\n"
       ]
      },
      {
       "output_type": "stream",
       "stream": "stdout",
       "text": [
        "2014-07-22 22:40:37,025 INFO sqlalchemy.engine.base.Engine ()\n"
       ]
      },
      {
       "output_type": "stream",
       "stream": "stderr",
       "text": [
        "INFO:sqlalchemy.engine.base.Engine:()\n"
       ]
      },
      {
       "output_type": "stream",
       "stream": "stdout",
       "text": [
        "2014-07-22 22:40:37,027 INFO sqlalchemy.engine.base.Engine PRAGMA table_info(\"user\")\n"
       ]
      },
      {
       "output_type": "stream",
       "stream": "stderr",
       "text": [
        "INFO:sqlalchemy.engine.base.Engine:PRAGMA table_info(\"user\")\n"
       ]
      },
      {
       "output_type": "stream",
       "stream": "stdout",
       "text": [
        "2014-07-22 22:40:37,027 INFO sqlalchemy.engine.base.Engine ()\n"
       ]
      },
      {
       "output_type": "stream",
       "stream": "stderr",
       "text": [
        "INFO:sqlalchemy.engine.base.Engine:()\n"
       ]
      },
      {
       "output_type": "stream",
       "stream": "stdout",
       "text": [
        "2014-07-22 22:40:37,029 INFO sqlalchemy.engine.base.Engine PRAGMA table_info(\"address\")\n"
       ]
      },
      {
       "output_type": "stream",
       "stream": "stderr",
       "text": [
        "INFO:sqlalchemy.engine.base.Engine:PRAGMA table_info(\"address\")\n"
       ]
      },
      {
       "output_type": "stream",
       "stream": "stdout",
       "text": [
        "2014-07-22 22:40:37,030 INFO sqlalchemy.engine.base.Engine ()\n"
       ]
      },
      {
       "output_type": "stream",
       "stream": "stderr",
       "text": [
        "INFO:sqlalchemy.engine.base.Engine:()\n"
       ]
      },
      {
       "output_type": "stream",
       "stream": "stdout",
       "text": [
        "2014-07-22 22:40:37,032 INFO sqlalchemy.engine.base.Engine \n",
        "CREATE TABLE user (\n",
        "\tid INTEGER NOT NULL, \n",
        "\tname VARCHAR, \n",
        "\tfullname VARCHAR, \n",
        "\tPRIMARY KEY (id)\n",
        ")\n",
        "\n",
        "\n"
       ]
      },
      {
       "output_type": "stream",
       "stream": "stderr",
       "text": [
        "INFO:sqlalchemy.engine.base.Engine:\n",
        "CREATE TABLE user (\n",
        "\tid INTEGER NOT NULL, \n",
        "\tname VARCHAR, \n",
        "\tfullname VARCHAR, \n",
        "\tPRIMARY KEY (id)\n",
        ")\n",
        "\n",
        "\n"
       ]
      },
      {
       "output_type": "stream",
       "stream": "stdout",
       "text": [
        "2014-07-22 22:40:37,033 INFO sqlalchemy.engine.base.Engine ()\n"
       ]
      },
      {
       "output_type": "stream",
       "stream": "stderr",
       "text": [
        "INFO:sqlalchemy.engine.base.Engine:()\n"
       ]
      },
      {
       "output_type": "stream",
       "stream": "stdout",
       "text": [
        "2014-07-22 22:40:37,035 INFO sqlalchemy.engine.base.Engine COMMIT\n"
       ]
      },
      {
       "output_type": "stream",
       "stream": "stderr",
       "text": [
        "INFO:sqlalchemy.engine.base.Engine:COMMIT\n"
       ]
      },
      {
       "output_type": "stream",
       "stream": "stdout",
       "text": [
        "2014-07-22 22:40:37,037 INFO sqlalchemy.engine.base.Engine \n",
        "CREATE TABLE address (\n",
        "\tid INTEGER NOT NULL, \n",
        "\temail_address VARCHAR NOT NULL, \n",
        "\tuser_id INTEGER, \n",
        "\tPRIMARY KEY (id), \n",
        "\tFOREIGN KEY(user_id) REFERENCES user (id)\n",
        ")\n",
        "\n",
        "\n"
       ]
      },
      {
       "output_type": "stream",
       "stream": "stderr",
       "text": [
        "INFO:sqlalchemy.engine.base.Engine:\n",
        "CREATE TABLE address (\n",
        "\tid INTEGER NOT NULL, \n",
        "\temail_address VARCHAR NOT NULL, \n",
        "\tuser_id INTEGER, \n",
        "\tPRIMARY KEY (id), \n",
        "\tFOREIGN KEY(user_id) REFERENCES user (id)\n",
        ")\n",
        "\n",
        "\n"
       ]
      },
      {
       "output_type": "stream",
       "stream": "stdout",
       "text": [
        "2014-07-22 22:40:37,038 INFO sqlalchemy.engine.base.Engine ()\n"
       ]
      },
      {
       "output_type": "stream",
       "stream": "stderr",
       "text": [
        "INFO:sqlalchemy.engine.base.Engine:()\n"
       ]
      },
      {
       "output_type": "stream",
       "stream": "stdout",
       "text": [
        "2014-07-22 22:40:37,039 INFO sqlalchemy.engine.base.Engine COMMIT\n"
       ]
      },
      {
       "output_type": "stream",
       "stream": "stderr",
       "text": [
        "INFO:sqlalchemy.engine.base.Engine:COMMIT\n"
       ]
      }
     ],
     "prompt_number": 36
    },
    {
     "cell_type": "code",
     "collapsed": false,
     "input": [
      "# a new User object also gains an empty \"addresses\" collection now.\n",
      "\n",
      "jack = User(name='jack', fullname='Jack Bean')\n",
      "jack.addresses"
     ],
     "language": "python",
     "metadata": {},
     "outputs": [
      {
       "metadata": {},
       "output_type": "pyout",
       "prompt_number": 37,
       "text": [
        "[]"
       ]
      }
     ],
     "prompt_number": 37
    },
    {
     "cell_type": "code",
     "collapsed": false,
     "input": [
      "# populate this collection with new Address objects.\n",
      "\n",
      "jack.addresses = [\n",
      "                Address(email_address='jack@gmail.com'),\n",
      "                Address(email_address='j25@yahoo.com'),\n",
      "                Address(email_address='jack@hotmail.com'),\n",
      "                ]"
     ],
     "language": "python",
     "metadata": {},
     "outputs": [],
     "prompt_number": 38
    },
    {
     "cell_type": "code",
     "collapsed": false,
     "input": [
      "# the \"backref\" sets up Address.user for each User.address.\n",
      "\n",
      "jack.addresses[1]\n",
      "jack.addresses[1].user"
     ],
     "language": "python",
     "metadata": {},
     "outputs": [
      {
       "metadata": {},
       "output_type": "pyout",
       "prompt_number": 39,
       "text": [
        "<User('jack', 'Jack Bean')>"
       ]
      }
     ],
     "prompt_number": 39
    },
    {
     "cell_type": "code",
     "collapsed": false,
     "input": [
      "from sqlalchemy.orm import Session\n",
      "session = Session(bind=engine)\n",
      "session.add(jack)\n",
      "session.new\n",
      "session.commit()"
     ],
     "language": "python",
     "metadata": {},
     "outputs": [
      {
       "output_type": "stream",
       "stream": "stdout",
       "text": [
        "2014-07-22 22:40:43,408 INFO sqlalchemy.engine.base.Engine BEGIN (implicit)\n"
       ]
      },
      {
       "output_type": "stream",
       "stream": "stderr",
       "text": [
        "INFO:sqlalchemy.engine.base.Engine:BEGIN (implicit)\n"
       ]
      },
      {
       "output_type": "stream",
       "stream": "stdout",
       "text": [
        "2014-07-22 22:40:43,410 INFO sqlalchemy.engine.base.Engine INSERT INTO user (name, fullname) VALUES (?, ?)\n"
       ]
      },
      {
       "output_type": "stream",
       "stream": "stderr",
       "text": [
        "INFO:sqlalchemy.engine.base.Engine:INSERT INTO user (name, fullname) VALUES (?, ?)\n"
       ]
      },
      {
       "output_type": "stream",
       "stream": "stdout",
       "text": [
        "2014-07-22 22:40:43,411 INFO sqlalchemy.engine.base.Engine ('jack', 'Jack Bean')\n"
       ]
      },
      {
       "output_type": "stream",
       "stream": "stderr",
       "text": [
        "INFO:sqlalchemy.engine.base.Engine:('jack', 'Jack Bean')\n"
       ]
      },
      {
       "output_type": "stream",
       "stream": "stdout",
       "text": [
        "2014-07-22 22:40:43,414 INFO sqlalchemy.engine.base.Engine INSERT INTO address (email_address, user_id) VALUES (?, ?)\n"
       ]
      },
      {
       "output_type": "stream",
       "stream": "stderr",
       "text": [
        "INFO:sqlalchemy.engine.base.Engine:INSERT INTO address (email_address, user_id) VALUES (?, ?)\n"
       ]
      },
      {
       "output_type": "stream",
       "stream": "stdout",
       "text": [
        "2014-07-22 22:40:43,415 INFO sqlalchemy.engine.base.Engine ('jack@gmail.com', 1)\n"
       ]
      },
      {
       "output_type": "stream",
       "stream": "stderr",
       "text": [
        "INFO:sqlalchemy.engine.base.Engine:('jack@gmail.com', 1)\n"
       ]
      },
      {
       "output_type": "stream",
       "stream": "stdout",
       "text": [
        "2014-07-22 22:40:43,417 INFO sqlalchemy.engine.base.Engine INSERT INTO address (email_address, user_id) VALUES (?, ?)\n"
       ]
      },
      {
       "output_type": "stream",
       "stream": "stderr",
       "text": [
        "INFO:sqlalchemy.engine.base.Engine:INSERT INTO address (email_address, user_id) VALUES (?, ?)\n"
       ]
      },
      {
       "output_type": "stream",
       "stream": "stdout",
       "text": [
        "2014-07-22 22:40:43,418 INFO sqlalchemy.engine.base.Engine ('j25@yahoo.com', 1)\n"
       ]
      },
      {
       "output_type": "stream",
       "stream": "stderr",
       "text": [
        "INFO:sqlalchemy.engine.base.Engine:('j25@yahoo.com', 1)\n"
       ]
      },
      {
       "output_type": "stream",
       "stream": "stdout",
       "text": [
        "2014-07-22 22:40:43,419 INFO sqlalchemy.engine.base.Engine INSERT INTO address (email_address, user_id) VALUES (?, ?)\n"
       ]
      },
      {
       "output_type": "stream",
       "stream": "stderr",
       "text": [
        "INFO:sqlalchemy.engine.base.Engine:INSERT INTO address (email_address, user_id) VALUES (?, ?)\n"
       ]
      },
      {
       "output_type": "stream",
       "stream": "stdout",
       "text": [
        "2014-07-22 22:40:43,420 INFO sqlalchemy.engine.base.Engine ('jack@hotmail.com', 1)\n"
       ]
      },
      {
       "output_type": "stream",
       "stream": "stderr",
       "text": [
        "INFO:sqlalchemy.engine.base.Engine:('jack@hotmail.com', 1)\n"
       ]
      },
      {
       "output_type": "stream",
       "stream": "stdout",
       "text": [
        "2014-07-22 22:40:43,422 INFO sqlalchemy.engine.base.Engine COMMIT\n"
       ]
      },
      {
       "output_type": "stream",
       "stream": "stderr",
       "text": [
        "INFO:sqlalchemy.engine.base.Engine:COMMIT\n"
       ]
      }
     ],
     "prompt_number": 40
    },
    {
     "cell_type": "code",
     "collapsed": false,
     "input": [
      "# After expiration, jack.addresses emits a *lazy load* when first\n",
      "# accessed.\n",
      "jack.addresses"
     ],
     "language": "python",
     "metadata": {},
     "outputs": [
      {
       "output_type": "stream",
       "stream": "stdout",
       "text": [
        "2014-07-22 22:40:47,182 INFO sqlalchemy.engine.base.Engine BEGIN (implicit)\n"
       ]
      },
      {
       "output_type": "stream",
       "stream": "stderr",
       "text": [
        "INFO:sqlalchemy.engine.base.Engine:BEGIN (implicit)\n"
       ]
      },
      {
       "output_type": "stream",
       "stream": "stdout",
       "text": [
        "2014-07-22 22:40:47,185 INFO sqlalchemy.engine.base.Engine SELECT user.id AS user_id, user.name AS user_name, user.fullname AS user_fullname \n",
        "FROM user \n",
        "WHERE user.id = ?\n"
       ]
      },
      {
       "output_type": "stream",
       "stream": "stderr",
       "text": [
        "INFO:sqlalchemy.engine.base.Engine:SELECT user.id AS user_id, user.name AS user_name, user.fullname AS user_fullname \n",
        "FROM user \n",
        "WHERE user.id = ?\n"
       ]
      },
      {
       "output_type": "stream",
       "stream": "stdout",
       "text": [
        "2014-07-22 22:40:47,187 INFO sqlalchemy.engine.base.Engine (1,)\n"
       ]
      },
      {
       "output_type": "stream",
       "stream": "stderr",
       "text": [
        "INFO:sqlalchemy.engine.base.Engine:(1,)\n"
       ]
      },
      {
       "output_type": "stream",
       "stream": "stdout",
       "text": [
        "2014-07-22 22:40:47,188 INFO sqlalchemy.engine.base.Engine SELECT address.id AS address_id, address.email_address AS address_email_address, address.user_id AS address_user_id \n",
        "FROM address \n",
        "WHERE ? = address.user_id\n"
       ]
      },
      {
       "output_type": "stream",
       "stream": "stderr",
       "text": [
        "INFO:sqlalchemy.engine.base.Engine:SELECT address.id AS address_id, address.email_address AS address_email_address, address.user_id AS address_user_id \n",
        "FROM address \n",
        "WHERE ? = address.user_id\n"
       ]
      },
      {
       "output_type": "stream",
       "stream": "stdout",
       "text": [
        "2014-07-22 22:40:47,190 INFO sqlalchemy.engine.base.Engine (1,)\n"
       ]
      },
      {
       "output_type": "stream",
       "stream": "stderr",
       "text": [
        "INFO:sqlalchemy.engine.base.Engine:(1,)\n"
       ]
      },
      {
       "metadata": {},
       "output_type": "pyout",
       "prompt_number": 41,
       "text": [
        "[<Address(u'jack@gmail.com')>,\n",
        " <Address(u'j25@yahoo.com')>,\n",
        " <Address(u'jack@hotmail.com')>]"
       ]
      }
     ],
     "prompt_number": 41
    },
    {
     "cell_type": "code",
     "collapsed": false,
     "input": [
      "# the collection stays in memory until the transaction ends.\n",
      "jack.addresses"
     ],
     "language": "python",
     "metadata": {},
     "outputs": [
      {
       "metadata": {},
       "output_type": "pyout",
       "prompt_number": 42,
       "text": [
        "[<Address(u'jack@gmail.com')>,\n",
        " <Address(u'j25@yahoo.com')>,\n",
        " <Address(u'jack@hotmail.com')>]"
       ]
      }
     ],
     "prompt_number": 42
    },
    {
     "cell_type": "code",
     "collapsed": false,
     "input": [],
     "language": "python",
     "metadata": {},
     "outputs": []
    },
    {
     "cell_type": "code",
     "collapsed": false,
     "input": [
      "session.add_all([\n",
      "    User(name='wendy', fullname='Wendy Weathersmith'),\n",
      "    User(name='mary', fullname='Mary Contrary'),\n",
      "    User(name='fred', fullname='Fred Flinstone')\n",
      "])\n",
      "session.commit()"
     ],
     "language": "python",
     "metadata": {},
     "outputs": [
      {
       "output_type": "stream",
       "stream": "stdout",
       "text": [
        "2014-07-22 22:40:52,067 INFO sqlalchemy.engine.base.Engine INSERT INTO user (name, fullname) VALUES (?, ?)\n"
       ]
      },
      {
       "output_type": "stream",
       "stream": "stderr",
       "text": [
        "INFO:sqlalchemy.engine.base.Engine:INSERT INTO user (name, fullname) VALUES (?, ?)\n"
       ]
      },
      {
       "output_type": "stream",
       "stream": "stdout",
       "text": [
        "2014-07-22 22:40:52,068 INFO sqlalchemy.engine.base.Engine ('wendy', 'Wendy Weathersmith')\n"
       ]
      },
      {
       "output_type": "stream",
       "stream": "stderr",
       "text": [
        "INFO:sqlalchemy.engine.base.Engine:('wendy', 'Wendy Weathersmith')\n"
       ]
      },
      {
       "output_type": "stream",
       "stream": "stdout",
       "text": [
        "2014-07-22 22:40:52,070 INFO sqlalchemy.engine.base.Engine INSERT INTO user (name, fullname) VALUES (?, ?)\n"
       ]
      },
      {
       "output_type": "stream",
       "stream": "stderr",
       "text": [
        "INFO:sqlalchemy.engine.base.Engine:INSERT INTO user (name, fullname) VALUES (?, ?)\n"
       ]
      },
      {
       "output_type": "stream",
       "stream": "stdout",
       "text": [
        "2014-07-22 22:40:52,071 INFO sqlalchemy.engine.base.Engine ('mary', 'Mary Contrary')\n"
       ]
      },
      {
       "output_type": "stream",
       "stream": "stderr",
       "text": [
        "INFO:sqlalchemy.engine.base.Engine:('mary', 'Mary Contrary')\n"
       ]
      },
      {
       "output_type": "stream",
       "stream": "stdout",
       "text": [
        "2014-07-22 22:40:52,072 INFO sqlalchemy.engine.base.Engine INSERT INTO user (name, fullname) VALUES (?, ?)\n"
       ]
      },
      {
       "output_type": "stream",
       "stream": "stderr",
       "text": [
        "INFO:sqlalchemy.engine.base.Engine:INSERT INTO user (name, fullname) VALUES (?, ?)\n"
       ]
      },
      {
       "output_type": "stream",
       "stream": "stdout",
       "text": [
        "2014-07-22 22:40:52,073 INFO sqlalchemy.engine.base.Engine ('fred', 'Fred Flinstone')\n"
       ]
      },
      {
       "output_type": "stream",
       "stream": "stderr",
       "text": [
        "INFO:sqlalchemy.engine.base.Engine:('fred', 'Fred Flinstone')\n"
       ]
      },
      {
       "output_type": "stream",
       "stream": "stdout",
       "text": [
        "2014-07-22 22:40:52,075 INFO sqlalchemy.engine.base.Engine COMMIT\n"
       ]
      },
      {
       "output_type": "stream",
       "stream": "stderr",
       "text": [
        "INFO:sqlalchemy.engine.base.Engine:COMMIT\n"
       ]
      }
     ],
     "prompt_number": 43
    },
    {
     "cell_type": "code",
     "collapsed": false,
     "input": [
      "# collections and references are updated by manipulating objects,\n",
      "# not primary / foreign key values.\n",
      "\n",
      "fred = session.query(User).filter_by(name='fred').one()\n",
      "fred.addresses.append(jack.addresses[1])\n",
      "\n",
      "fred.addresses"
     ],
     "language": "python",
     "metadata": {},
     "outputs": [
      {
       "output_type": "stream",
       "stream": "stdout",
       "text": [
        "2014-07-22 22:54:55,891 INFO sqlalchemy.engine.base.Engine SELECT user.id AS user_id, user.name AS user_name, user.fullname AS user_fullname \n",
        "FROM user \n",
        "WHERE user.name = ?\n"
       ]
      },
      {
       "output_type": "stream",
       "stream": "stderr",
       "text": [
        "INFO:sqlalchemy.engine.base.Engine:SELECT user.id AS user_id, user.name AS user_name, user.fullname AS user_fullname \n",
        "FROM user \n",
        "WHERE user.name = ?\n"
       ]
      },
      {
       "output_type": "stream",
       "stream": "stdout",
       "text": [
        "2014-07-22 22:54:55,893 INFO sqlalchemy.engine.base.Engine ('fred',)\n"
       ]
      },
      {
       "output_type": "stream",
       "stream": "stderr",
       "text": [
        "INFO:sqlalchemy.engine.base.Engine:('fred',)\n"
       ]
      },
      {
       "metadata": {},
       "output_type": "pyout",
       "prompt_number": 46,
       "text": [
        "[<Address(u'j25@yahoo.com')>, <Address(u'jack@hotmail.com')>]"
       ]
      }
     ],
     "prompt_number": 46
    },
    {
     "cell_type": "code",
     "collapsed": false,
     "input": [
      "# Query can select from multiple tables at once.\n",
      "# Below is an *implicit join*.\n",
      "\n",
      "session.query(User, Address).filter(User.id == Address.user_id).all()"
     ],
     "language": "python",
     "metadata": {},
     "outputs": [
      {
       "output_type": "stream",
       "stream": "stdout",
       "text": [
        "2014-07-22 22:59:25,411 INFO sqlalchemy.engine.base.Engine UPDATE address SET user_id=? WHERE address.id = ?\n"
       ]
      },
      {
       "output_type": "stream",
       "stream": "stderr",
       "text": [
        "INFO:sqlalchemy.engine.base.Engine:UPDATE address SET user_id=? WHERE address.id = ?\n"
       ]
      },
      {
       "output_type": "stream",
       "stream": "stdout",
       "text": [
        "2014-07-22 22:59:25,413 INFO sqlalchemy.engine.base.Engine (4, 3)\n"
       ]
      },
      {
       "output_type": "stream",
       "stream": "stderr",
       "text": [
        "INFO:sqlalchemy.engine.base.Engine:(4, 3)\n"
       ]
      },
      {
       "output_type": "stream",
       "stream": "stdout",
       "text": [
        "2014-07-22 22:59:25,415 INFO sqlalchemy.engine.base.Engine SELECT user.id AS user_id, user.name AS user_name, user.fullname AS user_fullname, address.id AS address_id, address.email_address AS address_email_address, address.user_id AS address_user_id \n",
        "FROM user, address \n",
        "WHERE user.id = address.user_id\n"
       ]
      },
      {
       "output_type": "stream",
       "stream": "stderr",
       "text": [
        "INFO:sqlalchemy.engine.base.Engine:SELECT user.id AS user_id, user.name AS user_name, user.fullname AS user_fullname, address.id AS address_id, address.email_address AS address_email_address, address.user_id AS address_user_id \n",
        "FROM user, address \n",
        "WHERE user.id = address.user_id\n"
       ]
      },
      {
       "output_type": "stream",
       "stream": "stdout",
       "text": [
        "2014-07-22 22:59:25,416 INFO sqlalchemy.engine.base.Engine ()\n"
       ]
      },
      {
       "output_type": "stream",
       "stream": "stderr",
       "text": [
        "INFO:sqlalchemy.engine.base.Engine:()\n"
       ]
      },
      {
       "metadata": {},
       "output_type": "pyout",
       "prompt_number": 47,
       "text": [
        "[(<User(u'jack', u'Jack Bean')>, <Address(u'jack@gmail.com')>),\n",
        " (<User(u'fred', u'Fred Flinstone')>, <Address(u'j25@yahoo.com')>),\n",
        " (<User(u'fred', u'Fred Flinstone')>, <Address(u'jack@hotmail.com')>)]"
       ]
      }
     ],
     "prompt_number": 47
    },
    {
     "cell_type": "code",
     "collapsed": false,
     "input": [
      "# join() is used to create an explicit JOIN.\n",
      "\n",
      "session.query(User, Address).join(Address, User.id == Address.user_id).all()"
     ],
     "language": "python",
     "metadata": {},
     "outputs": [
      {
       "output_type": "stream",
       "stream": "stdout",
       "text": [
        "2014-07-22 22:59:56,179 INFO sqlalchemy.engine.base.Engine SELECT user.id AS user_id, user.name AS user_name, user.fullname AS user_fullname, address.id AS address_id, address.email_address AS address_email_address, address.user_id AS address_user_id \n",
        "FROM user JOIN address ON user.id = address.user_id\n"
       ]
      },
      {
       "output_type": "stream",
       "stream": "stderr",
       "text": [
        "INFO:sqlalchemy.engine.base.Engine:SELECT user.id AS user_id, user.name AS user_name, user.fullname AS user_fullname, address.id AS address_id, address.email_address AS address_email_address, address.user_id AS address_user_id \n",
        "FROM user JOIN address ON user.id = address.user_id\n"
       ]
      },
      {
       "output_type": "stream",
       "stream": "stdout",
       "text": [
        "2014-07-22 22:59:56,180 INFO sqlalchemy.engine.base.Engine ()\n"
       ]
      },
      {
       "output_type": "stream",
       "stream": "stderr",
       "text": [
        "INFO:sqlalchemy.engine.base.Engine:()\n"
       ]
      },
      {
       "metadata": {},
       "output_type": "pyout",
       "prompt_number": 48,
       "text": [
        "[(<User(u'jack', u'Jack Bean')>, <Address(u'jack@gmail.com')>),\n",
        " (<User(u'fred', u'Fred Flinstone')>, <Address(u'j25@yahoo.com')>),\n",
        " (<User(u'fred', u'Fred Flinstone')>, <Address(u'jack@hotmail.com')>)]"
       ]
      }
     ],
     "prompt_number": 48
    },
    {
     "cell_type": "code",
     "collapsed": false,
     "input": [
      "# The most succinct and accurate way to join() is to use the\n",
      "# the relationship()-bound attribute to specify ON.\n",
      "\n",
      "session.query(User, Address).join(User.addresses).all()"
     ],
     "language": "python",
     "metadata": {},
     "outputs": [
      {
       "output_type": "stream",
       "stream": "stdout",
       "text": [
        "2014-07-22 23:01:19,010 INFO sqlalchemy.engine.base.Engine SELECT user.id AS user_id, user.name AS user_name, user.fullname AS user_fullname, address.id AS address_id, address.email_address AS address_email_address, address.user_id AS address_user_id \n",
        "FROM user JOIN address ON user.id = address.user_id\n"
       ]
      },
      {
       "output_type": "stream",
       "stream": "stderr",
       "text": [
        "INFO:sqlalchemy.engine.base.Engine:SELECT user.id AS user_id, user.name AS user_name, user.fullname AS user_fullname, address.id AS address_id, address.email_address AS address_email_address, address.user_id AS address_user_id \n",
        "FROM user JOIN address ON user.id = address.user_id\n"
       ]
      },
      {
       "output_type": "stream",
       "stream": "stdout",
       "text": [
        "2014-07-22 23:01:19,012 INFO sqlalchemy.engine.base.Engine ()\n"
       ]
      },
      {
       "output_type": "stream",
       "stream": "stderr",
       "text": [
        "INFO:sqlalchemy.engine.base.Engine:()\n"
       ]
      },
      {
       "metadata": {},
       "output_type": "pyout",
       "prompt_number": 49,
       "text": [
        "[(<User(u'jack', u'Jack Bean')>, <Address(u'jack@gmail.com')>),\n",
        " (<User(u'fred', u'Fred Flinstone')>, <Address(u'j25@yahoo.com')>),\n",
        " (<User(u'fred', u'Fred Flinstone')>, <Address(u'jack@hotmail.com')>)]"
       ]
      }
     ],
     "prompt_number": 49
    },
    {
     "cell_type": "code",
     "collapsed": false,
     "input": [
      "# join() will also figure out very simple joins just using entities.\n",
      "\n",
      "session.query(User, Address).join(Address).all()\n"
     ],
     "language": "python",
     "metadata": {},
     "outputs": [
      {
       "output_type": "stream",
       "stream": "stdout",
       "text": [
        "2014-07-22 23:01:43,087 INFO sqlalchemy.engine.base.Engine SELECT user.id AS user_id, user.name AS user_name, user.fullname AS user_fullname, address.id AS address_id, address.email_address AS address_email_address, address.user_id AS address_user_id \n",
        "FROM user JOIN address ON user.id = address.user_id\n"
       ]
      },
      {
       "output_type": "stream",
       "stream": "stderr",
       "text": [
        "INFO:sqlalchemy.engine.base.Engine:SELECT user.id AS user_id, user.name AS user_name, user.fullname AS user_fullname, address.id AS address_id, address.email_address AS address_email_address, address.user_id AS address_user_id \n",
        "FROM user JOIN address ON user.id = address.user_id\n"
       ]
      },
      {
       "output_type": "stream",
       "stream": "stdout",
       "text": [
        "2014-07-22 23:01:43,089 INFO sqlalchemy.engine.base.Engine ()\n"
       ]
      },
      {
       "output_type": "stream",
       "stream": "stderr",
       "text": [
        "INFO:sqlalchemy.engine.base.Engine:()\n"
       ]
      },
      {
       "metadata": {},
       "output_type": "pyout",
       "prompt_number": 50,
       "text": [
        "[(<User(u'jack', u'Jack Bean')>, <Address(u'jack@gmail.com')>),\n",
        " (<User(u'fred', u'Fred Flinstone')>, <Address(u'j25@yahoo.com')>),\n",
        " (<User(u'fred', u'Fred Flinstone')>, <Address(u'jack@hotmail.com')>)]"
       ]
      }
     ],
     "prompt_number": 50
    },
    {
     "cell_type": "code",
     "collapsed": false,
     "input": [
      "from sqlalchemy.orm import aliased\n",
      "\n",
      "a1, a2 = aliased(Address), aliased(Address)\n",
      "session.query(User).\\\n",
      "        join(a1).\\\n",
      "        join(a2).\\\n",
      "        filter(a1.email_address == 'jack@gmail.com').\\\n",
      "        filter(a2.email_address == 'jack@hotmail.com').\\\n",
      "        all()"
     ],
     "language": "python",
     "metadata": {},
     "outputs": [
      {
       "output_type": "stream",
       "stream": "stdout",
       "text": [
        "2014-07-22 23:03:01,154 INFO sqlalchemy.engine.base.Engine SELECT user.id AS user_id, user.name AS user_name, user.fullname AS user_fullname \n",
        "FROM user JOIN address AS address_1 ON user.id = address_1.user_id JOIN address AS address_2 ON user.id = address_2.user_id \n",
        "WHERE address_1.email_address = ? AND address_2.email_address = ?\n"
       ]
      },
      {
       "output_type": "stream",
       "stream": "stderr",
       "text": [
        "INFO:sqlalchemy.engine.base.Engine:SELECT user.id AS user_id, user.name AS user_name, user.fullname AS user_fullname \n",
        "FROM user JOIN address AS address_1 ON user.id = address_1.user_id JOIN address AS address_2 ON user.id = address_2.user_id \n",
        "WHERE address_1.email_address = ? AND address_2.email_address = ?\n"
       ]
      },
      {
       "output_type": "stream",
       "stream": "stdout",
       "text": [
        "2014-07-22 23:03:01,155 INFO sqlalchemy.engine.base.Engine ('jack@gmail.com', 'jack@hotmail.com')\n"
       ]
      },
      {
       "output_type": "stream",
       "stream": "stderr",
       "text": [
        "INFO:sqlalchemy.engine.base.Engine:('jack@gmail.com', 'jack@hotmail.com')\n"
       ]
      },
      {
       "metadata": {},
       "output_type": "pyout",
       "prompt_number": 51,
       "text": [
        "[]"
       ]
      }
     ],
     "prompt_number": 51
    },
    {
     "cell_type": "code",
     "collapsed": false,
     "input": [
      "#Eager Loading\n",
      "# the \"N plus one\" problem refers to the many SELECT statements\n",
      "# emitted when loading collections against a parent result\n",
      "\n",
      "for user in session.query(User):\n",
      "    print(user, user.addresses)"
     ],
     "language": "python",
     "metadata": {},
     "outputs": [
      {
       "output_type": "stream",
       "stream": "stdout",
       "text": [
        "2014-07-22 23:03:42,824 INFO sqlalchemy.engine.base.Engine SELECT user.id AS user_id, user.name AS user_name, user.fullname AS user_fullname \n",
        "FROM user\n"
       ]
      },
      {
       "output_type": "stream",
       "stream": "stderr",
       "text": [
        "INFO:sqlalchemy.engine.base.Engine:SELECT user.id AS user_id, user.name AS user_name, user.fullname AS user_fullname \n",
        "FROM user\n"
       ]
      },
      {
       "output_type": "stream",
       "stream": "stdout",
       "text": [
        "2014-07-22 23:03:42,826 INFO sqlalchemy.engine.base.Engine ()\n"
       ]
      },
      {
       "output_type": "stream",
       "stream": "stderr",
       "text": [
        "INFO:sqlalchemy.engine.base.Engine:()\n"
       ]
      },
      {
       "output_type": "stream",
       "stream": "stdout",
       "text": [
        "(<User(u'jack', u'Jack Bean')>, [<Address(u'jack@gmail.com')>])\n",
        "2014-07-22 23:03:42,829 INFO sqlalchemy.engine.base.Engine SELECT address.id AS address_id, address.email_address AS address_email_address, address.user_id AS address_user_id \n",
        "FROM address \n",
        "WHERE ? = address.user_id\n"
       ]
      },
      {
       "output_type": "stream",
       "stream": "stderr",
       "text": [
        "INFO:sqlalchemy.engine.base.Engine:SELECT address.id AS address_id, address.email_address AS address_email_address, address.user_id AS address_user_id \n",
        "FROM address \n",
        "WHERE ? = address.user_id\n"
       ]
      },
      {
       "output_type": "stream",
       "stream": "stdout",
       "text": [
        "2014-07-22 23:03:42,830 INFO sqlalchemy.engine.base.Engine (2,)\n"
       ]
      },
      {
       "output_type": "stream",
       "stream": "stderr",
       "text": [
        "INFO:sqlalchemy.engine.base.Engine:(2,)\n"
       ]
      },
      {
       "output_type": "stream",
       "stream": "stdout",
       "text": [
        "(<User(u'wendy', u'Wendy Weathersmith')>, [])\n",
        "2014-07-22 23:03:42,833 INFO sqlalchemy.engine.base.Engine SELECT address.id AS address_id, address.email_address AS address_email_address, address.user_id AS address_user_id \n",
        "FROM address \n",
        "WHERE ? = address.user_id\n"
       ]
      },
      {
       "output_type": "stream",
       "stream": "stderr",
       "text": [
        "INFO:sqlalchemy.engine.base.Engine:SELECT address.id AS address_id, address.email_address AS address_email_address, address.user_id AS address_user_id \n",
        "FROM address \n",
        "WHERE ? = address.user_id\n"
       ]
      },
      {
       "output_type": "stream",
       "stream": "stdout",
       "text": [
        "2014-07-22 23:03:42,834 INFO sqlalchemy.engine.base.Engine (3,)\n"
       ]
      },
      {
       "output_type": "stream",
       "stream": "stderr",
       "text": [
        "INFO:sqlalchemy.engine.base.Engine:(3,)\n"
       ]
      },
      {
       "output_type": "stream",
       "stream": "stdout",
       "text": [
        "(<User(u'mary', u'Mary Contrary')>, [])\n",
        "(<User(u'fred', u'Fred Flinstone')>, [<Address(u'j25@yahoo.com')>, <Address(u'jack@hotmail.com')>])\n"
       ]
      }
     ],
     "prompt_number": 52
    },
    {
     "cell_type": "code",
     "collapsed": false,
     "input": [
      "# *eager loading* solves this problem by loading *all* collections\n",
      "# at once.\n",
      "\n",
      "session.rollback() # so we can see the load happen again."
     ],
     "language": "python",
     "metadata": {},
     "outputs": [
      {
       "output_type": "stream",
       "stream": "stdout",
       "text": [
        "2014-07-22 23:04:45,288 INFO sqlalchemy.engine.base.Engine ROLLBACK\n"
       ]
      },
      {
       "output_type": "stream",
       "stream": "stderr",
       "text": [
        "INFO:sqlalchemy.engine.base.Engine:ROLLBACK\n"
       ]
      }
     ],
     "prompt_number": 53
    },
    {
     "cell_type": "code",
     "collapsed": false,
     "input": [
      "from sqlalchemy.orm import subqueryload\n",
      "for user in session.query(User).options(subqueryload(User.addresses)):\n",
      "    print(user, user.addresses)"
     ],
     "language": "python",
     "metadata": {},
     "outputs": [
      {
       "output_type": "stream",
       "stream": "stdout",
       "text": [
        "2014-07-22 23:05:49,249 INFO sqlalchemy.engine.base.Engine BEGIN (implicit)\n"
       ]
      },
      {
       "output_type": "stream",
       "stream": "stderr",
       "text": [
        "INFO:sqlalchemy.engine.base.Engine:BEGIN (implicit)\n"
       ]
      },
      {
       "output_type": "stream",
       "stream": "stdout",
       "text": [
        "2014-07-22 23:05:49,251 INFO sqlalchemy.engine.base.Engine SELECT user.id AS user_id, user.name AS user_name, user.fullname AS user_fullname \n",
        "FROM user\n"
       ]
      },
      {
       "output_type": "stream",
       "stream": "stderr",
       "text": [
        "INFO:sqlalchemy.engine.base.Engine:SELECT user.id AS user_id, user.name AS user_name, user.fullname AS user_fullname \n",
        "FROM user\n"
       ]
      },
      {
       "output_type": "stream",
       "stream": "stdout",
       "text": [
        "2014-07-22 23:05:49,252 INFO sqlalchemy.engine.base.Engine ()\n"
       ]
      },
      {
       "output_type": "stream",
       "stream": "stderr",
       "text": [
        "INFO:sqlalchemy.engine.base.Engine:()\n"
       ]
      },
      {
       "output_type": "stream",
       "stream": "stdout",
       "text": [
        "2014-07-22 23:05:49,255 INFO sqlalchemy.engine.base.Engine SELECT address.id AS address_id, address.email_address AS address_email_address, address.user_id AS address_user_id, anon_1.user_id AS anon_1_user_id \n",
        "FROM (SELECT user.id AS user_id \n",
        "FROM user) AS anon_1 JOIN address ON anon_1.user_id = address.user_id ORDER BY anon_1.user_id\n"
       ]
      },
      {
       "output_type": "stream",
       "stream": "stderr",
       "text": [
        "INFO:sqlalchemy.engine.base.Engine:SELECT address.id AS address_id, address.email_address AS address_email_address, address.user_id AS address_user_id, anon_1.user_id AS anon_1_user_id \n",
        "FROM (SELECT user.id AS user_id \n",
        "FROM user) AS anon_1 JOIN address ON anon_1.user_id = address.user_id ORDER BY anon_1.user_id\n"
       ]
      },
      {
       "output_type": "stream",
       "stream": "stdout",
       "text": [
        "2014-07-22 23:05:49,257 INFO sqlalchemy.engine.base.Engine ()\n"
       ]
      },
      {
       "output_type": "stream",
       "stream": "stderr",
       "text": [
        "INFO:sqlalchemy.engine.base.Engine:()\n"
       ]
      },
      {
       "output_type": "stream",
       "stream": "stdout",
       "text": [
        "(<User(u'jack', u'Jack Bean')>, [<Address(u'jack@gmail.com')>, <Address(u'j25@yahoo.com')>, <Address(u'jack@hotmail.com')>])\n",
        "(<User(u'wendy', u'Wendy Weathersmith')>, [])\n",
        "(<User(u'mary', u'Mary Contrary')>, [])\n",
        "(<User(u'fred', u'Fred Flinstone')>, [])\n"
       ]
      }
     ],
     "prompt_number": 55
    },
    {
     "cell_type": "code",
     "collapsed": false,
     "input": [],
     "language": "python",
     "metadata": {},
     "outputs": []
    }
   ],
   "metadata": {}
  }
 ]
}